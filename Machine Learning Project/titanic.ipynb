{
 "cells": [
  {
   "cell_type": "markdown",
   "metadata": {
    "_cell_guid": "c986a9fb-e199-40eb-947d-c398d54f6b1e",
    "_uuid": "0ce8368deb46a77d2115dbc3d37859e8aa20c953"
   },
   "source": [
    "# EDA To Prediction (DieTanic)\n"
   ]
  },
  {
   "cell_type": "markdown",
   "metadata": {
    "_cell_guid": "706b0b7c-19f4-41c9-865f-5b3375253e0a",
    "_uuid": "8fa2571b91b93e0b0a08b7a9e4eedc060ba76c20"
   },
   "source": [
    "## Contents of the Notebook:\n",
    "\n",
    "#### Part1: Exploratory Data Analysis(EDA):\n",
    "1)Analysis of the features.\n",
    "\n",
    "2)Finding any relations or trends considering multiple features.\n",
    "#### Part2: Feature Engineering and Data Cleaning:\n",
    "1)Adding any few features.\n",
    "\n",
    "2)Removing redundant features.\n",
    "\n",
    "3)Converting features into suitable form for modeling.\n",
    "#### Part3: Predictive Modeling\n",
    "1)Running Basic Algorithms.\n",
    "\n",
    "2)Cross Validation.\n",
    "\n",
    "3)Ensembling.\n",
    "\n",
    "4)Important Features Extraction."
   ]
  },
  {
   "cell_type": "markdown",
   "metadata": {
    "_cell_guid": "bf5980c3-b168-4a26-81f3-c7bdcedb6429",
    "_uuid": "18ba4a8f0909fd0a758b8cb8717327de8aeacdc8"
   },
   "source": [
    "## Part1: Exploratory Data Analysis(EDA)"
   ]
  },
  {
   "cell_type": "code",
   "execution_count": 2,
   "metadata": {
    "_cell_guid": "d7601bd6-d22f-499f-97b9-85e01d390f05",
    "_uuid": "7bb401b4e2e509cc8a53e9cf645226fa508fa2e2"
   },
   "outputs": [],
   "source": [
    "import numpy as np \n",
    "import pandas as pd\n",
    "import matplotlib.pyplot as plt\n",
    "import seaborn as sns\n",
    "plt.style.use('fivethirtyeight')\n",
    "import warnings\n",
    "warnings.filterwarnings('ignore')\n",
    "%matplotlib inline"
   ]
  },
  {
   "cell_type": "code",
   "execution_count": 3,
   "metadata": {
    "_cell_guid": "c12ac199-e3e3-4372-a747-baa6273f4561",
    "_uuid": "ebc88acccbc14bf28e4e4d49eee1ea82dcc31ab4"
   },
   "outputs": [],
   "source": [
    "data=pd.read_csv('titanic/train.csv')"
   ]
  },
  {
   "cell_type": "code",
   "execution_count": 4,
   "metadata": {
    "_cell_guid": "03e86158-c720-48f7-8dde-ee11f79b7893",
    "_uuid": "6bad00c321363076e535c13a1ad70026c17042f3"
   },
   "outputs": [
    {
     "data": {
      "text/html": [
       "<div>\n",
       "<style scoped>\n",
       "    .dataframe tbody tr th:only-of-type {\n",
       "        vertical-align: middle;\n",
       "    }\n",
       "\n",
       "    .dataframe tbody tr th {\n",
       "        vertical-align: top;\n",
       "    }\n",
       "\n",
       "    .dataframe thead th {\n",
       "        text-align: right;\n",
       "    }\n",
       "</style>\n",
       "<table border=\"1\" class=\"dataframe\">\n",
       "  <thead>\n",
       "    <tr style=\"text-align: right;\">\n",
       "      <th></th>\n",
       "      <th>PassengerId</th>\n",
       "      <th>Survived</th>\n",
       "      <th>Pclass</th>\n",
       "      <th>Name</th>\n",
       "      <th>Sex</th>\n",
       "      <th>Age</th>\n",
       "      <th>SibSp</th>\n",
       "      <th>Parch</th>\n",
       "      <th>Ticket</th>\n",
       "      <th>Fare</th>\n",
       "      <th>Cabin</th>\n",
       "      <th>Embarked</th>\n",
       "    </tr>\n",
       "  </thead>\n",
       "  <tbody>\n",
       "    <tr>\n",
       "      <th>0</th>\n",
       "      <td>1</td>\n",
       "      <td>0</td>\n",
       "      <td>3</td>\n",
       "      <td>Braund, Mr. Owen Harris</td>\n",
       "      <td>male</td>\n",
       "      <td>22.0</td>\n",
       "      <td>1</td>\n",
       "      <td>0</td>\n",
       "      <td>A/5 21171</td>\n",
       "      <td>7.2500</td>\n",
       "      <td>NaN</td>\n",
       "      <td>S</td>\n",
       "    </tr>\n",
       "    <tr>\n",
       "      <th>1</th>\n",
       "      <td>2</td>\n",
       "      <td>1</td>\n",
       "      <td>1</td>\n",
       "      <td>Cumings, Mrs. John Bradley (Florence Briggs Th...</td>\n",
       "      <td>female</td>\n",
       "      <td>38.0</td>\n",
       "      <td>1</td>\n",
       "      <td>0</td>\n",
       "      <td>PC 17599</td>\n",
       "      <td>71.2833</td>\n",
       "      <td>C85</td>\n",
       "      <td>C</td>\n",
       "    </tr>\n",
       "    <tr>\n",
       "      <th>2</th>\n",
       "      <td>3</td>\n",
       "      <td>1</td>\n",
       "      <td>3</td>\n",
       "      <td>Heikkinen, Miss. Laina</td>\n",
       "      <td>female</td>\n",
       "      <td>26.0</td>\n",
       "      <td>0</td>\n",
       "      <td>0</td>\n",
       "      <td>STON/O2. 3101282</td>\n",
       "      <td>7.9250</td>\n",
       "      <td>NaN</td>\n",
       "      <td>S</td>\n",
       "    </tr>\n",
       "    <tr>\n",
       "      <th>3</th>\n",
       "      <td>4</td>\n",
       "      <td>1</td>\n",
       "      <td>1</td>\n",
       "      <td>Futrelle, Mrs. Jacques Heath (Lily May Peel)</td>\n",
       "      <td>female</td>\n",
       "      <td>35.0</td>\n",
       "      <td>1</td>\n",
       "      <td>0</td>\n",
       "      <td>113803</td>\n",
       "      <td>53.1000</td>\n",
       "      <td>C123</td>\n",
       "      <td>S</td>\n",
       "    </tr>\n",
       "    <tr>\n",
       "      <th>4</th>\n",
       "      <td>5</td>\n",
       "      <td>0</td>\n",
       "      <td>3</td>\n",
       "      <td>Allen, Mr. William Henry</td>\n",
       "      <td>male</td>\n",
       "      <td>35.0</td>\n",
       "      <td>0</td>\n",
       "      <td>0</td>\n",
       "      <td>373450</td>\n",
       "      <td>8.0500</td>\n",
       "      <td>NaN</td>\n",
       "      <td>S</td>\n",
       "    </tr>\n",
       "  </tbody>\n",
       "</table>\n",
       "</div>"
      ],
      "text/plain": [
       "   PassengerId  Survived  Pclass  \\\n",
       "0            1         0       3   \n",
       "1            2         1       1   \n",
       "2            3         1       3   \n",
       "3            4         1       1   \n",
       "4            5         0       3   \n",
       "\n",
       "                                                Name     Sex   Age  SibSp  \\\n",
       "0                            Braund, Mr. Owen Harris    male  22.0      1   \n",
       "1  Cumings, Mrs. John Bradley (Florence Briggs Th...  female  38.0      1   \n",
       "2                             Heikkinen, Miss. Laina  female  26.0      0   \n",
       "3       Futrelle, Mrs. Jacques Heath (Lily May Peel)  female  35.0      1   \n",
       "4                           Allen, Mr. William Henry    male  35.0      0   \n",
       "\n",
       "   Parch            Ticket     Fare Cabin Embarked  \n",
       "0      0         A/5 21171   7.2500   NaN        S  \n",
       "1      0          PC 17599  71.2833   C85        C  \n",
       "2      0  STON/O2. 3101282   7.9250   NaN        S  \n",
       "3      0            113803  53.1000  C123        S  \n",
       "4      0            373450   8.0500   NaN        S  "
      ]
     },
     "execution_count": 4,
     "metadata": {},
     "output_type": "execute_result"
    }
   ],
   "source": [
    "data.head()"
   ]
  },
  {
   "cell_type": "code",
   "execution_count": 5,
   "metadata": {
    "_cell_guid": "5ef569cd-e99e-42f0-93ec-abbc6a90c00e",
    "_uuid": "1496190095fb1cd2e289c63c986c6eb951046860"
   },
   "outputs": [
    {
     "data": {
      "text/plain": [
       "PassengerId      0\n",
       "Survived         0\n",
       "Pclass           0\n",
       "Name             0\n",
       "Sex              0\n",
       "Age            177\n",
       "SibSp            0\n",
       "Parch            0\n",
       "Ticket           0\n",
       "Fare             0\n",
       "Cabin          687\n",
       "Embarked         2\n",
       "dtype: int64"
      ]
     },
     "execution_count": 5,
     "metadata": {},
     "output_type": "execute_result"
    }
   ],
   "source": [
    "data.isnull().sum() #checking for total null values"
   ]
  },
  {
   "cell_type": "markdown",
   "metadata": {
    "_cell_guid": "31972ab9-edef-49e3-bcd5-120262cf00d8",
    "_uuid": "fcedf70d9bdab89fb7eb8ff3769b14f0b5036a33"
   },
   "source": [
    "The **Age, Cabin and Embarked** have null values. I will try to fix them."
   ]
  },
  {
   "cell_type": "markdown",
   "metadata": {
    "_cell_guid": "841dc40d-06b4-4010-b996-8d1e23857341",
    "_uuid": "d433fbf891d9268f60bf395d7db4e61996989d04"
   },
   "source": [
    "### How many Survived??"
   ]
  },
  {
   "cell_type": "code",
   "execution_count": 6,
   "metadata": {
    "_cell_guid": "fabb7625-a8ef-4f37-99c6-3ec93679ef1f",
    "_uuid": "c60257aef24e867113873729829c7a1e33f4a0ab"
   },
   "outputs": [
    {
     "data": {
      "image/png": "[encoded data removed]",
      "text/plain": [
       "<Figure size 1296x576 with 1 Axes>"
      ]
     },
     "metadata": {},
     "output_type": "display_data"
    }
   ],
   "source": [
    "f,ax=plt.subplots(1,1,figsize=(18,8))\n",
    "data['Survived'].value_counts().plot.pie(explode=[0,0.1],autopct='%1.1f%%',ax=ax,shadow=True)\n",
    "ax.set_title('Survived')\n",
    "ax.set_ylabel('')\n",
    "plt.show()"
   ]
  },
  {
   "cell_type": "markdown",
   "metadata": {
    "_cell_guid": "5be22cbd-9b03-4e9f-8eaf-068dd9df401f",
    "_uuid": "11fa0236baf6d291f1a1f9325cc42d71fc1b61c1"
   },
   "source": [
    "It is evident that not many passengers survived the accident. \n",
    "\n",
    "Out of 891 passengers in training set, only around 350 survived i.e Only **38.4%** of the total training set survived the crash. We need to dig down more to get better insights from the data and see which categories of the passengers did survive and who didn't.\n",
    "\n",
    "We will try to check the survival rate by using the different features of the dataset. Some of the features being Sex, Port Of Embarcation, Age,etc.\n",
    "\n",
    "First let us understand the different types of features."
   ]
  },
  {
   "cell_type": "markdown",
   "metadata": {
    "_cell_guid": "f16f40df-3681-4330-ba57-2955094a6546",
    "_uuid": "01e521761a33c3bc2961e2613f729c164269ee51"
   },
   "source": [
    "## Types Of Features\n",
    "\n",
    "### Categorical Features:\n",
    "A categorical variable is one that has two or more categories and each value in that feature can be categorised by them.For example, gender is a categorical variable having two categories (male and female). Now we cannot sort or give any ordering to such variables. They are also known as **Nominal Variables**.\n",
    "\n",
    "**Categorical Features in the dataset: Sex,Embarked.**\n",
    "\n",
    "### Ordinal Features:\n",
    "An ordinal variable is similar to categorical values, but the difference between them is that we can have relative ordering or sorting between the values. For eg: If we have a feature like **Height** with values **Tall, Medium, Short**, then Height is a ordinal variable. Here we can have a relative sort in the variable.\n",
    "\n",
    "**Ordinal Features in the dataset: PClass**\n",
    "\n",
    "### Continous Feature:\n",
    "A feature is said to be continous if it can take values between any two points or between the minimum or maximum values in the features column.\n",
    "\n",
    "**Continous Features in the dataset: Age**"
   ]
  },
  {
   "cell_type": "markdown",
   "metadata": {
    "_cell_guid": "ccd13018-e5fb-4022-ac41-cadce1994dbe",
    "_uuid": "2b36f7862279cf64a76a9950f703bfed4ca220f6"
   },
   "source": [
    "## Analysing The Features"
   ]
  },
  {
   "cell_type": "markdown",
   "metadata": {
    "_cell_guid": "8d5bd219-61ce-4c88-b0c5-aaffce8cb1cc",
    "_uuid": "8b5ad1ae98e4aad980f24bbefb489e6ac049768b"
   },
   "source": [
    "## Sex--> Categorical Feature"
   ]
  },
  {
   "cell_type": "code",
   "execution_count": 7,
   "metadata": {
    "_cell_guid": "428c84fc-9d5e-4022-a9f5-1c8ec7257268",
    "_uuid": "3554e468c8581316a717348689f1d867b3c97f6a"
   },
   "outputs": [
    {
     "data": {
      "text/plain": [
       "Sex     Survived\n",
       "female  0            81\n",
       "        1           233\n",
       "male    0           468\n",
       "        1           109\n",
       "Name: Survived, dtype: int64"
      ]
     },
     "execution_count": 7,
     "metadata": {},
     "output_type": "execute_result"
    }
   ],
   "source": [
    "data.groupby(['Sex','Survived'])['Survived'].count()"
   ]
  },
  {
   "cell_type": "code",
   "execution_count": 8,
   "metadata": {
    "_cell_guid": "06218a7d-bf3c-40b1-9cfa-2a915f7bc005",
    "_uuid": "c06e043424e13b87fcb020322e4869430fd0714f"
   },
   "outputs": [
    {
     "data": {
      "image/png": "[encoded data removed]",
      "text/plain": [
       "<Figure size 1296x576 with 1 Axes>"
      ]
     },
     "metadata": {
      "needs_background": "light"
     },
     "output_type": "display_data"
    }
   ],
   "source": [
    "f,ax=plt.subplots(1,1,figsize=(18,8))\n",
    "data[['Sex','Survived']].groupby(['Sex']).mean().plot.bar(ax=ax)\n",
    "ax.set_title('Survived vs Sex')\n",
    "\n",
    "plt.show()"
   ]
  },
  {
   "cell_type": "markdown",
   "metadata": {
    "_cell_guid": "d97e7fe8-a98c-40f3-98c7-b5118c0295db",
    "_uuid": "ebf3e75bbc120054b947162e088876bbaca3cf54"
   },
   "source": [
    "This looks interesting. The number of men on the ship is lot more than the number of women. Still the number of women saved is almost twice the number of males saved. The survival rates for a **women on the ship is around 75% while that for men in around 18-19%.**\n",
    "\n",
    "This looks to be a **very important** feature for modeling. But is it the best??   Lets check other features."
   ]
  },
  {
   "cell_type": "markdown",
   "metadata": {
    "_cell_guid": "a210b0c8-dd8e-4fd0-a7f2-e597b7ed81e6",
    "_uuid": "e3b6327723dedd766d452f55b4056bbd0b37bed2"
   },
   "source": [
    "## Pclass --> Ordinal Feature"
   ]
  },
  {
   "cell_type": "code",
   "execution_count": 9,
   "metadata": {
    "_cell_guid": "2477b536-32dd-43a0-8824-be034104b760",
    "_uuid": "4a98fe27c4474296c6b51f4a2b7fb076c228b4b8"
   },
   "outputs": [
    {
     "data": {
      "text/html": [
       "<style type=\"text/css\">\n",
       "#T_8cc1a_row0_col0, #T_8cc1a_row1_col1, #T_8cc1a_row1_col2 {\n",
       "  background-color: #ffff66;\n",
       "  color: #000000;\n",
       "}\n",
       "#T_8cc1a_row0_col1 {\n",
       "  background-color: #cee666;\n",
       "  color: #000000;\n",
       "}\n",
       "#T_8cc1a_row0_col2 {\n",
       "  background-color: #f4fa66;\n",
       "  color: #000000;\n",
       "}\n",
       "#T_8cc1a_row1_col0 {\n",
       "  background-color: #f6fa66;\n",
       "  color: #000000;\n",
       "}\n",
       "#T_8cc1a_row2_col0 {\n",
       "  background-color: #60b066;\n",
       "  color: #f1f1f1;\n",
       "}\n",
       "#T_8cc1a_row2_col1 {\n",
       "  background-color: #dfef66;\n",
       "  color: #000000;\n",
       "}\n",
       "#T_8cc1a_row2_col2 {\n",
       "  background-color: #90c866;\n",
       "  color: #000000;\n",
       "}\n",
       "#T_8cc1a_row3_col0, #T_8cc1a_row3_col1, #T_8cc1a_row3_col2 {\n",
       "  background-color: #008066;\n",
       "  color: #f1f1f1;\n",
       "}\n",
       "</style>\n",
       "<table id=\"T_8cc1a\">\n",
       "  <thead>\n",
       "    <tr>\n",
       "      <th class=\"index_name level0\" >Survived</th>\n",
       "      <th id=\"T_8cc1a_level0_col0\" class=\"col_heading level0 col0\" >0</th>\n",
       "      <th id=\"T_8cc1a_level0_col1\" class=\"col_heading level0 col1\" >1</th>\n",
       "      <th id=\"T_8cc1a_level0_col2\" class=\"col_heading level0 col2\" >All</th>\n",
       "    </tr>\n",
       "    <tr>\n",
       "      <th class=\"index_name level0\" >Pclass</th>\n",
       "      <th class=\"blank col0\" >&nbsp;</th>\n",
       "      <th class=\"blank col1\" >&nbsp;</th>\n",
       "      <th class=\"blank col2\" >&nbsp;</th>\n",
       "    </tr>\n",
       "  </thead>\n",
       "  <tbody>\n",
       "    <tr>\n",
       "      <th id=\"T_8cc1a_level0_row0\" class=\"row_heading level0 row0\" >1</th>\n",
       "      <td id=\"T_8cc1a_row0_col0\" class=\"data row0 col0\" >80</td>\n",
       "      <td id=\"T_8cc1a_row0_col1\" class=\"data row0 col1\" >136</td>\n",
       "      <td id=\"T_8cc1a_row0_col2\" class=\"data row0 col2\" >216</td>\n",
       "    </tr>\n",
       "    <tr>\n",
       "      <th id=\"T_8cc1a_level0_row1\" class=\"row_heading level0 row1\" >2</th>\n",
       "      <td id=\"T_8cc1a_row1_col0\" class=\"data row1 col0\" >97</td>\n",
       "      <td id=\"T_8cc1a_row1_col1\" class=\"data row1 col1\" >87</td>\n",
       "      <td id=\"T_8cc1a_row1_col2\" class=\"data row1 col2\" >184</td>\n",
       "    </tr>\n",
       "    <tr>\n",
       "      <th id=\"T_8cc1a_level0_row2\" class=\"row_heading level0 row2\" >3</th>\n",
       "      <td id=\"T_8cc1a_row2_col0\" class=\"data row2 col0\" >372</td>\n",
       "      <td id=\"T_8cc1a_row2_col1\" class=\"data row2 col1\" >119</td>\n",
       "      <td id=\"T_8cc1a_row2_col2\" class=\"data row2 col2\" >491</td>\n",
       "    </tr>\n",
       "    <tr>\n",
       "      <th id=\"T_8cc1a_level0_row3\" class=\"row_heading level0 row3\" >All</th>\n",
       "      <td id=\"T_8cc1a_row3_col0\" class=\"data row3 col0\" >549</td>\n",
       "      <td id=\"T_8cc1a_row3_col1\" class=\"data row3 col1\" >342</td>\n",
       "      <td id=\"T_8cc1a_row3_col2\" class=\"data row3 col2\" >891</td>\n",
       "    </tr>\n",
       "  </tbody>\n",
       "</table>\n"
      ],
      "text/plain": [
       "<pandas.io.formats.style.Styler at 0x7f87baa0a0a0>"
      ]
     },
     "execution_count": 9,
     "metadata": {},
     "output_type": "execute_result"
    }
   ],
   "source": [
    "pd.crosstab(data.Pclass,data.Survived,margins=True).style.background_gradient(cmap='summer_r')"
   ]
  },
  {
   "cell_type": "code",
   "execution_count": 10,
   "metadata": {
    "_cell_guid": "c3adaaa2-f675-4273-ba93-8b26c37bacf3",
    "_uuid": "592a3d8c24761c3f6e8c5cf875554826d9e308a5"
   },
   "outputs": [
    {
     "data": {
      "image/png": "[encoded data removed]",
      "text/plain": [
       "<Figure size 1296x576 with 1 Axes>"
      ]
     },
     "metadata": {
      "needs_background": "light"
     },
     "output_type": "display_data"
    }
   ],
   "source": [
    "f,ax=plt.subplots(1,1,figsize=(18,8))\n",
    "data['Pclass'].value_counts().plot.bar(color=['#CD7F32','#FFDF00','#D3D3D3'],ax=ax)\n",
    "ax.set_title('Number Of Passengers By Pclass')\n",
    "ax.set_ylabel('Count')\n",
    "\n",
    "plt.show()"
   ]
  },
  {
   "cell_type": "markdown",
   "metadata": {
    "_cell_guid": "eec00d94-07d2-4e6e-8797-cb6f98341793",
    "_uuid": "ace6b99b7d75b76ecead6f03372c1790fe3aa6c7",
    "collapsed": true
   },
   "source": [
    "People say **Money Can't Buy Everything**. But we can clearly see that Passenegers Of Pclass 1 were given a very high priority while rescue. Even though the the number of Passengers in Pclass 3 were a lot higher, still the number of survival from them is very low, somewhere around **25%**.\n",
    "\n",
    "For Pclass 1 %survived is around **63%** while for Pclass2 is around **48%**. So money and status matters. Such a materialistic world.\n",
    "\n",
    "Lets Dive in little bit more and check for other interesting observations. Lets check survival rate with **Sex and Pclass** Together."
   ]
  },
  {
   "cell_type": "code",
   "execution_count": 11,
   "metadata": {
    "_cell_guid": "7d413d16-2861-4aca-9042-38e374eddef3",
    "_uuid": "1308ec5a68849984dfd1e05b53c52b6192363a18"
   },
   "outputs": [
    {
     "data": {
      "text/html": [
       "<style type=\"text/css\">\n",
       "#T_04c62_row0_col0, #T_04c62_row0_col1, #T_04c62_row0_col3, #T_04c62_row3_col2 {\n",
       "  background-color: #ffff66;\n",
       "  color: #000000;\n",
       "}\n",
       "#T_04c62_row0_col2, #T_04c62_row1_col2 {\n",
       "  background-color: #f1f866;\n",
       "  color: #000000;\n",
       "}\n",
       "#T_04c62_row1_col0 {\n",
       "  background-color: #96cb66;\n",
       "  color: #000000;\n",
       "}\n",
       "#T_04c62_row1_col1 {\n",
       "  background-color: #a3d166;\n",
       "  color: #000000;\n",
       "}\n",
       "#T_04c62_row1_col3 {\n",
       "  background-color: #cfe766;\n",
       "  color: #000000;\n",
       "}\n",
       "#T_04c62_row2_col0 {\n",
       "  background-color: #a7d366;\n",
       "  color: #000000;\n",
       "}\n",
       "#T_04c62_row2_col1, #T_04c62_row2_col3 {\n",
       "  background-color: #85c266;\n",
       "  color: #000000;\n",
       "}\n",
       "#T_04c62_row2_col2 {\n",
       "  background-color: #6eb666;\n",
       "  color: #f1f1f1;\n",
       "}\n",
       "#T_04c62_row3_col0 {\n",
       "  background-color: #cde666;\n",
       "  color: #000000;\n",
       "}\n",
       "#T_04c62_row3_col1 {\n",
       "  background-color: #f0f866;\n",
       "  color: #000000;\n",
       "}\n",
       "#T_04c62_row3_col3 {\n",
       "  background-color: #f7fb66;\n",
       "  color: #000000;\n",
       "}\n",
       "#T_04c62_row4_col0, #T_04c62_row4_col1, #T_04c62_row4_col2, #T_04c62_row4_col3 {\n",
       "  background-color: #008066;\n",
       "  color: #f1f1f1;\n",
       "}\n",
       "</style>\n",
       "<table id=\"T_04c62\">\n",
       "  <thead>\n",
       "    <tr>\n",
       "      <th class=\"blank\" >&nbsp;</th>\n",
       "      <th class=\"index_name level0\" >Pclass</th>\n",
       "      <th id=\"T_04c62_level0_col0\" class=\"col_heading level0 col0\" >1</th>\n",
       "      <th id=\"T_04c62_level0_col1\" class=\"col_heading level0 col1\" >2</th>\n",
       "      <th id=\"T_04c62_level0_col2\" class=\"col_heading level0 col2\" >3</th>\n",
       "      <th id=\"T_04c62_level0_col3\" class=\"col_heading level0 col3\" >All</th>\n",
       "    </tr>\n",
       "    <tr>\n",
       "      <th class=\"index_name level0\" >Sex</th>\n",
       "      <th class=\"index_name level1\" >Survived</th>\n",
       "      <th class=\"blank col0\" >&nbsp;</th>\n",
       "      <th class=\"blank col1\" >&nbsp;</th>\n",
       "      <th class=\"blank col2\" >&nbsp;</th>\n",
       "      <th class=\"blank col3\" >&nbsp;</th>\n",
       "    </tr>\n",
       "  </thead>\n",
       "  <tbody>\n",
       "    <tr>\n",
       "      <th id=\"T_04c62_level0_row0\" class=\"row_heading level0 row0\" rowspan=\"2\">female</th>\n",
       "      <th id=\"T_04c62_level1_row0\" class=\"row_heading level1 row0\" >0</th>\n",
       "      <td id=\"T_04c62_row0_col0\" class=\"data row0 col0\" >3</td>\n",
       "      <td id=\"T_04c62_row0_col1\" class=\"data row0 col1\" >6</td>\n",
       "      <td id=\"T_04c62_row0_col2\" class=\"data row0 col2\" >72</td>\n",
       "      <td id=\"T_04c62_row0_col3\" class=\"data row0 col3\" >81</td>\n",
       "    </tr>\n",
       "    <tr>\n",
       "      <th id=\"T_04c62_level1_row1\" class=\"row_heading level1 row1\" >1</th>\n",
       "      <td id=\"T_04c62_row1_col0\" class=\"data row1 col0\" >91</td>\n",
       "      <td id=\"T_04c62_row1_col1\" class=\"data row1 col1\" >70</td>\n",
       "      <td id=\"T_04c62_row1_col2\" class=\"data row1 col2\" >72</td>\n",
       "      <td id=\"T_04c62_row1_col3\" class=\"data row1 col3\" >233</td>\n",
       "    </tr>\n",
       "    <tr>\n",
       "      <th id=\"T_04c62_level0_row2\" class=\"row_heading level0 row2\" rowspan=\"2\">male</th>\n",
       "      <th id=\"T_04c62_level1_row2\" class=\"row_heading level1 row2\" >0</th>\n",
       "      <td id=\"T_04c62_row2_col0\" class=\"data row2 col0\" >77</td>\n",
       "      <td id=\"T_04c62_row2_col1\" class=\"data row2 col1\" >91</td>\n",
       "      <td id=\"T_04c62_row2_col2\" class=\"data row2 col2\" >300</td>\n",
       "      <td id=\"T_04c62_row2_col3\" class=\"data row2 col3\" >468</td>\n",
       "    </tr>\n",
       "    <tr>\n",
       "      <th id=\"T_04c62_level1_row3\" class=\"row_heading level1 row3\" >1</th>\n",
       "      <td id=\"T_04c62_row3_col0\" class=\"data row3 col0\" >45</td>\n",
       "      <td id=\"T_04c62_row3_col1\" class=\"data row3 col1\" >17</td>\n",
       "      <td id=\"T_04c62_row3_col2\" class=\"data row3 col2\" >47</td>\n",
       "      <td id=\"T_04c62_row3_col3\" class=\"data row3 col3\" >109</td>\n",
       "    </tr>\n",
       "    <tr>\n",
       "      <th id=\"T_04c62_level0_row4\" class=\"row_heading level0 row4\" >All</th>\n",
       "      <th id=\"T_04c62_level1_row4\" class=\"row_heading level1 row4\" ></th>\n",
       "      <td id=\"T_04c62_row4_col0\" class=\"data row4 col0\" >216</td>\n",
       "      <td id=\"T_04c62_row4_col1\" class=\"data row4 col1\" >184</td>\n",
       "      <td id=\"T_04c62_row4_col2\" class=\"data row4 col2\" >491</td>\n",
       "      <td id=\"T_04c62_row4_col3\" class=\"data row4 col3\" >891</td>\n",
       "    </tr>\n",
       "  </tbody>\n",
       "</table>\n"
      ],
      "text/plain": [
       "<pandas.io.formats.style.Styler at 0x7f87bb75beb0>"
      ]
     },
     "execution_count": 11,
     "metadata": {},
     "output_type": "execute_result"
    }
   ],
   "source": [
    "pd.crosstab([data.Sex,data.Survived],data.Pclass,margins=True).style.background_gradient(cmap='summer_r')"
   ]
  },
  {
   "cell_type": "markdown",
   "metadata": {
    "_cell_guid": "b9a8739f-9bfa-48a0-8b55-85694f8c7b36",
    "_uuid": "da1710d88cdb726d4c74d1580eb4650823f8e1a9"
   },
   "source": [
    "## Age--> Continous Feature\n"
   ]
  },
  {
   "cell_type": "code",
   "execution_count": 12,
   "metadata": {
    "_cell_guid": "d8c1dc5a-2f74-4c88-9101-6c98abaf9878",
    "_uuid": "58e1110e104a4628f2852fa284905525997c2c44"
   },
   "outputs": [
    {
     "name": "stdout",
     "output_type": "stream",
     "text": [
      "Oldest Passenger was of: 80.0 Years\n",
      "Youngest Passenger was of: 0.42 Years\n",
      "Average Age on the ship: 29.69911764705882 Years\n"
     ]
    }
   ],
   "source": [
    "print('Oldest Passenger was of:',data['Age'].max(),'Years')\n",
    "print('Youngest Passenger was of:',data['Age'].min(),'Years')\n",
    "print('Average Age on the ship:',data['Age'].mean(),'Years')"
   ]
  },
  {
   "cell_type": "markdown",
   "metadata": {
    "_cell_guid": "23be39a5-be98-422b-8116-90cb0fd120ba",
    "_uuid": "d347a55f54b1ee15ce39ad0e22d873a2c32fc736"
   },
   "source": [
    "As we had seen earlier, the Age feature has **177** null values. To replace these NaN values, we can assign them the mean age of the dataset.\n",
    "\n",
    "But the problem is, there were many people with many different ages. We just cant assign a 4 year kid with the mean age that is 29 years. Is there any way to find out what age-band does the passenger lie??\n",
    "\n",
    "**Bingo!!!!**, we can check the **Name**  feature. Looking upon the feature, we can see that the names have a salutation like Mr or Mrs. Thus we can assign the mean values of Mr and Mrs to the respective groups.\n",
    "\n",
    "**''What's In A Name??''**---> **Feature**  :p"
   ]
  },
  {
   "cell_type": "code",
   "execution_count": 13,
   "metadata": {
    "_cell_guid": "0af8b99e-0d4b-4844-a146-da2a359ca2ff",
    "_uuid": "e92f7a0ef7ea07abb81e602fc700b382c64fca96"
   },
   "outputs": [],
   "source": [
    "data['Initial']=0\n",
    "for i in data:\n",
    "    data['Initial']=data.Name.str.extract('([A-Za-z]+)\\.') #lets extract the Salutations"
   ]
  },
  {
   "cell_type": "markdown",
   "metadata": {
    "_cell_guid": "8efd06d8-dee6-4892-a986-25944cf2bf61",
    "_uuid": "413c7cdc7469c86bd9d13fd54c731ecb58704197"
   },
   "source": [
    "Okay so here we are using the Regex: **[A-Za-z]+)\\.**. So what it does is, it looks for strings which lie between **A-Z or a-z** and followed by a **.(dot)**. So we successfully extract the Initials from the Name."
   ]
  },
  {
   "cell_type": "code",
   "execution_count": 14,
   "metadata": {
    "_cell_guid": "e87e0415-43e7-4717-a6dc-43e60e71460e",
    "_uuid": "cf32ee39ef64840facd833f7f5d7616ffbaaa97c"
   },
   "outputs": [
    {
     "data": {
      "text/html": [
       "<style type=\"text/css\">\n",
       "#T_222a0_row0_col0, #T_222a0_row0_col1, #T_222a0_row0_col3, #T_222a0_row0_col4, #T_222a0_row0_col5, #T_222a0_row0_col7, #T_222a0_row0_col8, #T_222a0_row0_col12, #T_222a0_row0_col15, #T_222a0_row0_col16, #T_222a0_row1_col2, #T_222a0_row1_col6, #T_222a0_row1_col9, #T_222a0_row1_col10, #T_222a0_row1_col11, #T_222a0_row1_col13, #T_222a0_row1_col14 {\n",
       "  background-color: #ffff66;\n",
       "  color: #000000;\n",
       "}\n",
       "#T_222a0_row0_col2, #T_222a0_row0_col6, #T_222a0_row0_col9, #T_222a0_row0_col10, #T_222a0_row0_col11, #T_222a0_row0_col13, #T_222a0_row0_col14, #T_222a0_row1_col0, #T_222a0_row1_col1, #T_222a0_row1_col3, #T_222a0_row1_col4, #T_222a0_row1_col5, #T_222a0_row1_col7, #T_222a0_row1_col8, #T_222a0_row1_col12, #T_222a0_row1_col15, #T_222a0_row1_col16 {\n",
       "  background-color: #008066;\n",
       "  color: #f1f1f1;\n",
       "}\n",
       "</style>\n",
       "<table id=\"T_222a0\">\n",
       "  <thead>\n",
       "    <tr>\n",
       "      <th class=\"index_name level0\" >Initial</th>\n",
       "      <th id=\"T_222a0_level0_col0\" class=\"col_heading level0 col0\" >Capt</th>\n",
       "      <th id=\"T_222a0_level0_col1\" class=\"col_heading level0 col1\" >Col</th>\n",
       "      <th id=\"T_222a0_level0_col2\" class=\"col_heading level0 col2\" >Countess</th>\n",
       "      <th id=\"T_222a0_level0_col3\" class=\"col_heading level0 col3\" >Don</th>\n",
       "      <th id=\"T_222a0_level0_col4\" class=\"col_heading level0 col4\" >Dr</th>\n",
       "      <th id=\"T_222a0_level0_col5\" class=\"col_heading level0 col5\" >Jonkheer</th>\n",
       "      <th id=\"T_222a0_level0_col6\" class=\"col_heading level0 col6\" >Lady</th>\n",
       "      <th id=\"T_222a0_level0_col7\" class=\"col_heading level0 col7\" >Major</th>\n",
       "      <th id=\"T_222a0_level0_col8\" class=\"col_heading level0 col8\" >Master</th>\n",
       "      <th id=\"T_222a0_level0_col9\" class=\"col_heading level0 col9\" >Miss</th>\n",
       "      <th id=\"T_222a0_level0_col10\" class=\"col_heading level0 col10\" >Mlle</th>\n",
       "      <th id=\"T_222a0_level0_col11\" class=\"col_heading level0 col11\" >Mme</th>\n",
       "      <th id=\"T_222a0_level0_col12\" class=\"col_heading level0 col12\" >Mr</th>\n",
       "      <th id=\"T_222a0_level0_col13\" class=\"col_heading level0 col13\" >Mrs</th>\n",
       "      <th id=\"T_222a0_level0_col14\" class=\"col_heading level0 col14\" >Ms</th>\n",
       "      <th id=\"T_222a0_level0_col15\" class=\"col_heading level0 col15\" >Rev</th>\n",
       "      <th id=\"T_222a0_level0_col16\" class=\"col_heading level0 col16\" >Sir</th>\n",
       "    </tr>\n",
       "    <tr>\n",
       "      <th class=\"index_name level0\" >Sex</th>\n",
       "      <th class=\"blank col0\" >&nbsp;</th>\n",
       "      <th class=\"blank col1\" >&nbsp;</th>\n",
       "      <th class=\"blank col2\" >&nbsp;</th>\n",
       "      <th class=\"blank col3\" >&nbsp;</th>\n",
       "      <th class=\"blank col4\" >&nbsp;</th>\n",
       "      <th class=\"blank col5\" >&nbsp;</th>\n",
       "      <th class=\"blank col6\" >&nbsp;</th>\n",
       "      <th class=\"blank col7\" >&nbsp;</th>\n",
       "      <th class=\"blank col8\" >&nbsp;</th>\n",
       "      <th class=\"blank col9\" >&nbsp;</th>\n",
       "      <th class=\"blank col10\" >&nbsp;</th>\n",
       "      <th class=\"blank col11\" >&nbsp;</th>\n",
       "      <th class=\"blank col12\" >&nbsp;</th>\n",
       "      <th class=\"blank col13\" >&nbsp;</th>\n",
       "      <th class=\"blank col14\" >&nbsp;</th>\n",
       "      <th class=\"blank col15\" >&nbsp;</th>\n",
       "      <th class=\"blank col16\" >&nbsp;</th>\n",
       "    </tr>\n",
       "  </thead>\n",
       "  <tbody>\n",
       "    <tr>\n",
       "      <th id=\"T_222a0_level0_row0\" class=\"row_heading level0 row0\" >female</th>\n",
       "      <td id=\"T_222a0_row0_col0\" class=\"data row0 col0\" >0</td>\n",
       "      <td id=\"T_222a0_row0_col1\" class=\"data row0 col1\" >0</td>\n",
       "      <td id=\"T_222a0_row0_col2\" class=\"data row0 col2\" >1</td>\n",
       "      <td id=\"T_222a0_row0_col3\" class=\"data row0 col3\" >0</td>\n",
       "      <td id=\"T_222a0_row0_col4\" class=\"data row0 col4\" >1</td>\n",
       "      <td id=\"T_222a0_row0_col5\" class=\"data row0 col5\" >0</td>\n",
       "      <td id=\"T_222a0_row0_col6\" class=\"data row0 col6\" >1</td>\n",
       "      <td id=\"T_222a0_row0_col7\" class=\"data row0 col7\" >0</td>\n",
       "      <td id=\"T_222a0_row0_col8\" class=\"data row0 col8\" >0</td>\n",
       "      <td id=\"T_222a0_row0_col9\" class=\"data row0 col9\" >182</td>\n",
       "      <td id=\"T_222a0_row0_col10\" class=\"data row0 col10\" >2</td>\n",
       "      <td id=\"T_222a0_row0_col11\" class=\"data row0 col11\" >1</td>\n",
       "      <td id=\"T_222a0_row0_col12\" class=\"data row0 col12\" >0</td>\n",
       "      <td id=\"T_222a0_row0_col13\" class=\"data row0 col13\" >125</td>\n",
       "      <td id=\"T_222a0_row0_col14\" class=\"data row0 col14\" >1</td>\n",
       "      <td id=\"T_222a0_row0_col15\" class=\"data row0 col15\" >0</td>\n",
       "      <td id=\"T_222a0_row0_col16\" class=\"data row0 col16\" >0</td>\n",
       "    </tr>\n",
       "    <tr>\n",
       "      <th id=\"T_222a0_level0_row1\" class=\"row_heading level0 row1\" >male</th>\n",
       "      <td id=\"T_222a0_row1_col0\" class=\"data row1 col0\" >1</td>\n",
       "      <td id=\"T_222a0_row1_col1\" class=\"data row1 col1\" >2</td>\n",
       "      <td id=\"T_222a0_row1_col2\" class=\"data row1 col2\" >0</td>\n",
       "      <td id=\"T_222a0_row1_col3\" class=\"data row1 col3\" >1</td>\n",
       "      <td id=\"T_222a0_row1_col4\" class=\"data row1 col4\" >6</td>\n",
       "      <td id=\"T_222a0_row1_col5\" class=\"data row1 col5\" >1</td>\n",
       "      <td id=\"T_222a0_row1_col6\" class=\"data row1 col6\" >0</td>\n",
       "      <td id=\"T_222a0_row1_col7\" class=\"data row1 col7\" >2</td>\n",
       "      <td id=\"T_222a0_row1_col8\" class=\"data row1 col8\" >40</td>\n",
       "      <td id=\"T_222a0_row1_col9\" class=\"data row1 col9\" >0</td>\n",
       "      <td id=\"T_222a0_row1_col10\" class=\"data row1 col10\" >0</td>\n",
       "      <td id=\"T_222a0_row1_col11\" class=\"data row1 col11\" >0</td>\n",
       "      <td id=\"T_222a0_row1_col12\" class=\"data row1 col12\" >517</td>\n",
       "      <td id=\"T_222a0_row1_col13\" class=\"data row1 col13\" >0</td>\n",
       "      <td id=\"T_222a0_row1_col14\" class=\"data row1 col14\" >0</td>\n",
       "      <td id=\"T_222a0_row1_col15\" class=\"data row1 col15\" >6</td>\n",
       "      <td id=\"T_222a0_row1_col16\" class=\"data row1 col16\" >1</td>\n",
       "    </tr>\n",
       "  </tbody>\n",
       "</table>\n"
      ],
      "text/plain": [
       "<pandas.io.formats.style.Styler at 0x7f87bb6bb190>"
      ]
     },
     "execution_count": 14,
     "metadata": {},
     "output_type": "execute_result"
    }
   ],
   "source": [
    "pd.crosstab(data.Initial,data.Sex).T.style.background_gradient(cmap='summer_r') #Checking the Initials with the Sex"
   ]
  },
  {
   "cell_type": "markdown",
   "metadata": {
    "_cell_guid": "1d7d94e4-240e-4cfc-ba21-d036b3bd7869",
    "_uuid": "f0514c0b00c34f72bd77eb597a4e08a1c9edf982"
   },
   "source": [
    "Okay so there are some misspelled Initials like Mlle or Mme that stand for Miss. I will replace them with Miss and same thing for other values."
   ]
  },
  {
   "cell_type": "code",
   "execution_count": 15,
   "metadata": {
    "_cell_guid": "55b6028e-948c-4a98-a214-e86212481af4",
    "_uuid": "99a86205c88ad2c8fd96fc18225cd10ed91620dd"
   },
   "outputs": [],
   "source": [
    "data['Initial'].replace(['Mlle','Mme','Ms','Dr','Major','Lady','Countess','Jonkheer','Col','Rev','Capt','Sir','Don'],['Miss','Miss','Miss','Mr','Mr','Mrs','Mrs','Other','Other','Other','Mr','Mr','Mr'],inplace=True)"
   ]
  },
  {
   "cell_type": "code",
   "execution_count": 16,
   "metadata": {
    "_cell_guid": "c1d0c1dd-ac10-4360-99e1-dfea7418ad0e",
    "_uuid": "f09f5aefc80a89f0f3af69cd9fdf30afb576f456"
   },
   "outputs": [
    {
     "data": {
      "text/plain": [
       "Initial\n",
       "Master     4.574167\n",
       "Miss      21.860000\n",
       "Mr        32.739609\n",
       "Mrs       35.981818\n",
       "Other     45.888889\n",
       "Name: Age, dtype: float64"
      ]
     },
     "execution_count": 16,
     "metadata": {},
     "output_type": "execute_result"
    }
   ],
   "source": [
    "data.groupby('Initial')['Age'].mean() #lets check the average age by Initials"
   ]
  },
  {
   "cell_type": "markdown",
   "metadata": {
    "_cell_guid": "57ec5300-f0e3-46ce-a920-6c1846901b6d",
    "_uuid": "d2bbefba6442fcd47e04c90daa43f58fc001e47b"
   },
   "source": [
    "### Filling NaN Ages"
   ]
  },
  {
   "cell_type": "code",
   "execution_count": 17,
   "metadata": {
    "_cell_guid": "f006b4b0-a8aa-432c-9bdb-040a435e77f8",
    "_uuid": "8bd3c34f7f539bc3d4720531da6405e2d0e96b46"
   },
   "outputs": [],
   "source": [
    "## Assigning the NaN Values with the Ceil values of the mean ages\n",
    "data.loc[(data.Age.isnull())&(data.Initial=='Mr'),'Age']=33\n",
    "data.loc[(data.Age.isnull())&(data.Initial=='Mrs'),'Age']=36\n",
    "data.loc[(data.Age.isnull())&(data.Initial=='Master'),'Age']=5\n",
    "data.loc[(data.Age.isnull())&(data.Initial=='Miss'),'Age']=22\n",
    "data.loc[(data.Age.isnull())&(data.Initial=='Other'),'Age']=46"
   ]
  },
  {
   "cell_type": "code",
   "execution_count": 18,
   "metadata": {
    "_cell_guid": "534ab487-2e49-4df1-93b4-4aac64c52bc1",
    "_uuid": "0fd9e749a4eefeb0b57c0fe97de9b0ee9815c279"
   },
   "outputs": [
    {
     "data": {
      "text/plain": [
       "False"
      ]
     },
     "execution_count": 18,
     "metadata": {},
     "output_type": "execute_result"
    }
   ],
   "source": [
    "data.Age.isnull().any() #So no null values left finally "
   ]
  },
  {
   "cell_type": "code",
   "execution_count": 19,
   "metadata": {
    "_cell_guid": "b2ed1983-50d5-405c-8bad-c61a087758f5",
    "_uuid": "dff9fcc871c21b4949d0082f3609151bb6f3e726"
   },
   "outputs": [
    {
     "data": {
      "image/png": "[encoded data removed]",
      "text/plain": [
       "<Figure size 1440x720 with 2 Axes>"
      ]
     },
     "metadata": {
      "needs_background": "light"
     },
     "output_type": "display_data"
    }
   ],
   "source": [
    "f,ax=plt.subplots(1,2,figsize=(20,10))\n",
    "data[data['Survived']==0].Age.plot.hist(ax=ax[0],bins=20,edgecolor='black',color='red')\n",
    "ax[0].set_title('Survived= 0')\n",
    "x1=list(range(0,85,5))\n",
    "ax[0].set_xticks(x1)\n",
    "data[data['Survived']==1].Age.plot.hist(ax=ax[1],color='green',bins=20,edgecolor='black')\n",
    "ax[1].set_title('Survived= 1')\n",
    "x2=list(range(0,85,5))\n",
    "ax[1].set_xticks(x2)\n",
    "plt.show()"
   ]
  },
  {
   "cell_type": "markdown",
   "metadata": {
    "_cell_guid": "b4c65724-4641-4e8c-be59-c9d41bfd088b",
    "_uuid": "e78651053e3b3641da3ded5bac87be689c7df259"
   },
   "source": [
    "### Observations:\n",
    "1)The Toddlers(age<5) were saved in large numbers(The Women and Child First Policy).\n",
    "\n",
    "2)The oldest Passenger was saved(80 years).\n",
    "\n",
    "3)Maximum number of deaths were in the age group of 30-40."
   ]
  },
  {
   "cell_type": "markdown",
   "metadata": {
    "_cell_guid": "e694b26b-ccca-4405-9fa5-af4f91527d80",
    "_uuid": "a82c6f302df8fb1227ed024f38f2e8a73376d113",
    "collapsed": true
   },
   "source": [
    "### Observations:\n",
    "\n",
    "1)The survival chances are almost 1 for women for Pclass1 and Pclass2 irrespective of the Pclass.\n",
    "\n",
    "2)Port S looks to be very unlucky for Pclass3 Passenegers as the survival rate for both men and women is very low.**(Money Matters)**\n",
    "\n",
    "3)Port Q looks looks to be unlukiest for Men, as almost all were from Pclass 3.\n"
   ]
  },
  {
   "cell_type": "markdown",
   "metadata": {
    "_cell_guid": "9d2984b4-c9a7-44bf-ada3-78afc83bcd26",
    "_uuid": "c124234128b669e41546daab16bfb85d14b5dc03",
    "collapsed": true
   },
   "source": [
    "### Filling Embarked NaN\n",
    "\n",
    "As we saw that maximum passengers boarded from Port S, we replace NaN with S."
   ]
  },
  {
   "cell_type": "code",
   "execution_count": 21,
   "metadata": {
    "_cell_guid": "62309104-404b-4f79-a50b-1f1747fde9f5",
    "_uuid": "c77ed7f842ec862326ca6b9986e21a0a7d69acff"
   },
   "outputs": [],
   "source": [
    "data['Embarked'].fillna('S',inplace=True)"
   ]
  },
  {
   "cell_type": "code",
   "execution_count": 22,
   "metadata": {
    "_cell_guid": "56d6a590-9ab2-4be6-8a90-f0bb9e908cae",
    "_uuid": "16f31e0c60dc64d638d9505b2eaa855fb20205cc"
   },
   "outputs": [
    {
     "data": {
      "text/plain": [
       "False"
      ]
     },
     "execution_count": 22,
     "metadata": {},
     "output_type": "execute_result"
    }
   ],
   "source": [
    "data.Embarked.isnull().any()# Finally No NaN values"
   ]
  },
  {
   "cell_type": "markdown",
   "metadata": {
    "_cell_guid": "05194e42-445e-41a5-9124-e4ec29d1ac2a",
    "_uuid": "838c230d6e4027c9f87b702ffd5805284c74ca4d",
    "collapsed": true
   },
   "source": [
    "## SibSip-->Discrete Feature\n",
    "This feature represents whether a person is alone or with his family members.\n",
    "\n",
    "Sibling = brother, sister, stepbrother, stepsister\n",
    "\n",
    "Spouse = husband, wife "
   ]
  },
  {
   "cell_type": "code",
   "execution_count": 23,
   "metadata": {
    "_cell_guid": "ae7b6019-3162-400f-9746-8d8239049751",
    "_uuid": "56069ce478b75673fab78145fb6a6741cad28d76"
   },
   "outputs": [
    {
     "data": {
      "text/html": [
       "<style type=\"text/css\">\n",
       "#T_ab7a4_row0_col0, #T_ab7a4_row0_col1 {\n",
       "  background-color: #008066;\n",
       "  color: #f1f1f1;\n",
       "}\n",
       "#T_ab7a4_row1_col0 {\n",
       "  background-color: #c4e266;\n",
       "  color: #000000;\n",
       "}\n",
       "#T_ab7a4_row1_col1 {\n",
       "  background-color: #77bb66;\n",
       "  color: #f1f1f1;\n",
       "}\n",
       "#T_ab7a4_row2_col0, #T_ab7a4_row4_col0 {\n",
       "  background-color: #f9fc66;\n",
       "  color: #000000;\n",
       "}\n",
       "#T_ab7a4_row2_col1 {\n",
       "  background-color: #f0f866;\n",
       "  color: #000000;\n",
       "}\n",
       "#T_ab7a4_row3_col0, #T_ab7a4_row3_col1 {\n",
       "  background-color: #fbfd66;\n",
       "  color: #000000;\n",
       "}\n",
       "#T_ab7a4_row4_col1 {\n",
       "  background-color: #fcfe66;\n",
       "  color: #000000;\n",
       "}\n",
       "#T_ab7a4_row5_col0, #T_ab7a4_row5_col1, #T_ab7a4_row6_col1 {\n",
       "  background-color: #ffff66;\n",
       "  color: #000000;\n",
       "}\n",
       "#T_ab7a4_row6_col0 {\n",
       "  background-color: #fefe66;\n",
       "  color: #000000;\n",
       "}\n",
       "</style>\n",
       "<table id=\"T_ab7a4\">\n",
       "  <thead>\n",
       "    <tr>\n",
       "      <th class=\"index_name level0\" >Survived</th>\n",
       "      <th id=\"T_ab7a4_level0_col0\" class=\"col_heading level0 col0\" >0</th>\n",
       "      <th id=\"T_ab7a4_level0_col1\" class=\"col_heading level0 col1\" >1</th>\n",
       "    </tr>\n",
       "    <tr>\n",
       "      <th class=\"index_name level0\" >SibSp</th>\n",
       "      <th class=\"blank col0\" >&nbsp;</th>\n",
       "      <th class=\"blank col1\" >&nbsp;</th>\n",
       "    </tr>\n",
       "  </thead>\n",
       "  <tbody>\n",
       "    <tr>\n",
       "      <th id=\"T_ab7a4_level0_row0\" class=\"row_heading level0 row0\" >0</th>\n",
       "      <td id=\"T_ab7a4_row0_col0\" class=\"data row0 col0\" >398</td>\n",
       "      <td id=\"T_ab7a4_row0_col1\" class=\"data row0 col1\" >210</td>\n",
       "    </tr>\n",
       "    <tr>\n",
       "      <th id=\"T_ab7a4_level0_row1\" class=\"row_heading level0 row1\" >1</th>\n",
       "      <td id=\"T_ab7a4_row1_col0\" class=\"data row1 col0\" >97</td>\n",
       "      <td id=\"T_ab7a4_row1_col1\" class=\"data row1 col1\" >112</td>\n",
       "    </tr>\n",
       "    <tr>\n",
       "      <th id=\"T_ab7a4_level0_row2\" class=\"row_heading level0 row2\" >2</th>\n",
       "      <td id=\"T_ab7a4_row2_col0\" class=\"data row2 col0\" >15</td>\n",
       "      <td id=\"T_ab7a4_row2_col1\" class=\"data row2 col1\" >13</td>\n",
       "    </tr>\n",
       "    <tr>\n",
       "      <th id=\"T_ab7a4_level0_row3\" class=\"row_heading level0 row3\" >3</th>\n",
       "      <td id=\"T_ab7a4_row3_col0\" class=\"data row3 col0\" >12</td>\n",
       "      <td id=\"T_ab7a4_row3_col1\" class=\"data row3 col1\" >4</td>\n",
       "    </tr>\n",
       "    <tr>\n",
       "      <th id=\"T_ab7a4_level0_row4\" class=\"row_heading level0 row4\" >4</th>\n",
       "      <td id=\"T_ab7a4_row4_col0\" class=\"data row4 col0\" >15</td>\n",
       "      <td id=\"T_ab7a4_row4_col1\" class=\"data row4 col1\" >3</td>\n",
       "    </tr>\n",
       "    <tr>\n",
       "      <th id=\"T_ab7a4_level0_row5\" class=\"row_heading level0 row5\" >5</th>\n",
       "      <td id=\"T_ab7a4_row5_col0\" class=\"data row5 col0\" >5</td>\n",
       "      <td id=\"T_ab7a4_row5_col1\" class=\"data row5 col1\" >0</td>\n",
       "    </tr>\n",
       "    <tr>\n",
       "      <th id=\"T_ab7a4_level0_row6\" class=\"row_heading level0 row6\" >8</th>\n",
       "      <td id=\"T_ab7a4_row6_col0\" class=\"data row6 col0\" >7</td>\n",
       "      <td id=\"T_ab7a4_row6_col1\" class=\"data row6 col1\" >0</td>\n",
       "    </tr>\n",
       "  </tbody>\n",
       "</table>\n"
      ],
      "text/plain": [
       "<pandas.io.formats.style.Styler at 0x7f87bbea1f40>"
      ]
     },
     "execution_count": 23,
     "metadata": {},
     "output_type": "execute_result"
    }
   ],
   "source": [
    "pd.crosstab([data.SibSp],data.Survived).style.background_gradient(cmap='summer_r')"
   ]
  },
  {
   "cell_type": "code",
   "execution_count": 24,
   "metadata": {
    "_cell_guid": "c0ce45f8-0b08-4631-ade7-b3ddd3978414",
    "_uuid": "fcdc00224417620a8805e0e5d0b6e83c81119981"
   },
   "outputs": [
    {
     "data": {
      "text/html": [
       "<style type=\"text/css\">\n",
       "#T_a7287_row0_col0, #T_a7287_row0_col1, #T_a7287_row0_col2 {\n",
       "  background-color: #008066;\n",
       "  color: #f1f1f1;\n",
       "}\n",
       "#T_a7287_row1_col0 {\n",
       "  background-color: #7bbd66;\n",
       "  color: #000000;\n",
       "}\n",
       "#T_a7287_row1_col1 {\n",
       "  background-color: #8ac466;\n",
       "  color: #000000;\n",
       "}\n",
       "#T_a7287_row1_col2 {\n",
       "  background-color: #c6e266;\n",
       "  color: #000000;\n",
       "}\n",
       "#T_a7287_row2_col0, #T_a7287_row4_col2 {\n",
       "  background-color: #f6fa66;\n",
       "  color: #000000;\n",
       "}\n",
       "#T_a7287_row2_col1 {\n",
       "  background-color: #eef666;\n",
       "  color: #000000;\n",
       "}\n",
       "#T_a7287_row2_col2 {\n",
       "  background-color: #f8fc66;\n",
       "  color: #000000;\n",
       "}\n",
       "#T_a7287_row3_col0, #T_a7287_row3_col2 {\n",
       "  background-color: #fafc66;\n",
       "  color: #000000;\n",
       "}\n",
       "#T_a7287_row3_col1 {\n",
       "  background-color: #fdfe66;\n",
       "  color: #000000;\n",
       "}\n",
       "#T_a7287_row4_col0, #T_a7287_row4_col1, #T_a7287_row5_col0, #T_a7287_row5_col1, #T_a7287_row5_col2, #T_a7287_row6_col0, #T_a7287_row6_col1 {\n",
       "  background-color: #ffff66;\n",
       "  color: #000000;\n",
       "}\n",
       "#T_a7287_row6_col2 {\n",
       "  background-color: #fefe66;\n",
       "  color: #000000;\n",
       "}\n",
       "</style>\n",
       "<table id=\"T_a7287\">\n",
       "  <thead>\n",
       "    <tr>\n",
       "      <th class=\"index_name level0\" >Pclass</th>\n",
       "      <th id=\"T_a7287_level0_col0\" class=\"col_heading level0 col0\" >1</th>\n",
       "      <th id=\"T_a7287_level0_col1\" class=\"col_heading level0 col1\" >2</th>\n",
       "      <th id=\"T_a7287_level0_col2\" class=\"col_heading level0 col2\" >3</th>\n",
       "    </tr>\n",
       "    <tr>\n",
       "      <th class=\"index_name level0\" >SibSp</th>\n",
       "      <th class=\"blank col0\" >&nbsp;</th>\n",
       "      <th class=\"blank col1\" >&nbsp;</th>\n",
       "      <th class=\"blank col2\" >&nbsp;</th>\n",
       "    </tr>\n",
       "  </thead>\n",
       "  <tbody>\n",
       "    <tr>\n",
       "      <th id=\"T_a7287_level0_row0\" class=\"row_heading level0 row0\" >0</th>\n",
       "      <td id=\"T_a7287_row0_col0\" class=\"data row0 col0\" >137</td>\n",
       "      <td id=\"T_a7287_row0_col1\" class=\"data row0 col1\" >120</td>\n",
       "      <td id=\"T_a7287_row0_col2\" class=\"data row0 col2\" >351</td>\n",
       "    </tr>\n",
       "    <tr>\n",
       "      <th id=\"T_a7287_level0_row1\" class=\"row_heading level0 row1\" >1</th>\n",
       "      <td id=\"T_a7287_row1_col0\" class=\"data row1 col0\" >71</td>\n",
       "      <td id=\"T_a7287_row1_col1\" class=\"data row1 col1\" >55</td>\n",
       "      <td id=\"T_a7287_row1_col2\" class=\"data row1 col2\" >83</td>\n",
       "    </tr>\n",
       "    <tr>\n",
       "      <th id=\"T_a7287_level0_row2\" class=\"row_heading level0 row2\" >2</th>\n",
       "      <td id=\"T_a7287_row2_col0\" class=\"data row2 col0\" >5</td>\n",
       "      <td id=\"T_a7287_row2_col1\" class=\"data row2 col1\" >8</td>\n",
       "      <td id=\"T_a7287_row2_col2\" class=\"data row2 col2\" >15</td>\n",
       "    </tr>\n",
       "    <tr>\n",
       "      <th id=\"T_a7287_level0_row3\" class=\"row_heading level0 row3\" >3</th>\n",
       "      <td id=\"T_a7287_row3_col0\" class=\"data row3 col0\" >3</td>\n",
       "      <td id=\"T_a7287_row3_col1\" class=\"data row3 col1\" >1</td>\n",
       "      <td id=\"T_a7287_row3_col2\" class=\"data row3 col2\" >12</td>\n",
       "    </tr>\n",
       "    <tr>\n",
       "      <th id=\"T_a7287_level0_row4\" class=\"row_heading level0 row4\" >4</th>\n",
       "      <td id=\"T_a7287_row4_col0\" class=\"data row4 col0\" >0</td>\n",
       "      <td id=\"T_a7287_row4_col1\" class=\"data row4 col1\" >0</td>\n",
       "      <td id=\"T_a7287_row4_col2\" class=\"data row4 col2\" >18</td>\n",
       "    </tr>\n",
       "    <tr>\n",
       "      <th id=\"T_a7287_level0_row5\" class=\"row_heading level0 row5\" >5</th>\n",
       "      <td id=\"T_a7287_row5_col0\" class=\"data row5 col0\" >0</td>\n",
       "      <td id=\"T_a7287_row5_col1\" class=\"data row5 col1\" >0</td>\n",
       "      <td id=\"T_a7287_row5_col2\" class=\"data row5 col2\" >5</td>\n",
       "    </tr>\n",
       "    <tr>\n",
       "      <th id=\"T_a7287_level0_row6\" class=\"row_heading level0 row6\" >8</th>\n",
       "      <td id=\"T_a7287_row6_col0\" class=\"data row6 col0\" >0</td>\n",
       "      <td id=\"T_a7287_row6_col1\" class=\"data row6 col1\" >0</td>\n",
       "      <td id=\"T_a7287_row6_col2\" class=\"data row6 col2\" >7</td>\n",
       "    </tr>\n",
       "  </tbody>\n",
       "</table>\n"
      ],
      "text/plain": [
       "<pandas.io.formats.style.Styler at 0x7f87bba813d0>"
      ]
     },
     "execution_count": 24,
     "metadata": {},
     "output_type": "execute_result"
    }
   ],
   "source": [
    "pd.crosstab(data.SibSp,data.Pclass).style.background_gradient(cmap='summer_r')"
   ]
  },
  {
   "cell_type": "markdown",
   "metadata": {
    "_cell_guid": "8fd6eeb9-7aed-4bbb-b13d-2d491bdbdd6a",
    "_uuid": "485d132cdff1171a3c5853572f6150ad1e4f92cc",
    "collapsed": true
   },
   "source": [
    "### Observations:\n",
    "\n",
    "\n",
    "The barplot and factorplot shows that if a passenger is alone onboard with no siblings, he have 34.5% survival rate. The graph roughly decreases if the number of siblings increase. This makes sense. That is, if I have a family on board, I will try to save them instead of saving myself first. Surprisingly the survival for families with 5-8 members is **0%**. The reason may be Pclass??\n",
    "\n",
    "The reason is **Pclass**. The crosstab shows that Person with SibSp>3 were all in Pclass3. It is imminent that all the large families in Pclass3(>3) died."
   ]
  },
  {
   "cell_type": "markdown",
   "metadata": {
    "_cell_guid": "4abd6f2c-0b9e-48a8-ba09-97ef75b3499a",
    "_uuid": "5f4af4fa5a1708815b12e4e0c330a6762647f44b",
    "collapsed": true
   },
   "source": [
    "## Parch"
   ]
  },
  {
   "cell_type": "code",
   "execution_count": 25,
   "metadata": {
    "_cell_guid": "84e405d3-cd3d-4a00-840d-f3e51bbfd45f",
    "_uuid": "f426753939cc958e1c358e3cf165c5915a0fcc2d"
   },
   "outputs": [
    {
     "data": {
      "text/html": [
       "<style type=\"text/css\">\n",
       "#T_d024d_row0_col0, #T_d024d_row0_col1, #T_d024d_row0_col2 {\n",
       "  background-color: #008066;\n",
       "  color: #f1f1f1;\n",
       "}\n",
       "#T_d024d_row1_col0 {\n",
       "  background-color: #cfe766;\n",
       "  color: #000000;\n",
       "}\n",
       "#T_d024d_row1_col1 {\n",
       "  background-color: #c2e066;\n",
       "  color: #000000;\n",
       "}\n",
       "#T_d024d_row1_col2 {\n",
       "  background-color: #dbed66;\n",
       "  color: #000000;\n",
       "}\n",
       "#T_d024d_row2_col0 {\n",
       "  background-color: #dfef66;\n",
       "  color: #000000;\n",
       "}\n",
       "#T_d024d_row2_col1 {\n",
       "  background-color: #e1f066;\n",
       "  color: #000000;\n",
       "}\n",
       "#T_d024d_row2_col2 {\n",
       "  background-color: #e3f166;\n",
       "  color: #000000;\n",
       "}\n",
       "#T_d024d_row3_col0, #T_d024d_row4_col1, #T_d024d_row5_col0, #T_d024d_row5_col1, #T_d024d_row6_col0, #T_d024d_row6_col1, #T_d024d_row6_col2 {\n",
       "  background-color: #ffff66;\n",
       "  color: #000000;\n",
       "}\n",
       "#T_d024d_row3_col1 {\n",
       "  background-color: #fcfe66;\n",
       "  color: #000000;\n",
       "}\n",
       "#T_d024d_row3_col2, #T_d024d_row4_col0, #T_d024d_row4_col2 {\n",
       "  background-color: #fefe66;\n",
       "  color: #000000;\n",
       "}\n",
       "#T_d024d_row5_col2 {\n",
       "  background-color: #fdfe66;\n",
       "  color: #000000;\n",
       "}\n",
       "</style>\n",
       "<table id=\"T_d024d\">\n",
       "  <thead>\n",
       "    <tr>\n",
       "      <th class=\"index_name level0\" >Pclass</th>\n",
       "      <th id=\"T_d024d_level0_col0\" class=\"col_heading level0 col0\" >1</th>\n",
       "      <th id=\"T_d024d_level0_col1\" class=\"col_heading level0 col1\" >2</th>\n",
       "      <th id=\"T_d024d_level0_col2\" class=\"col_heading level0 col2\" >3</th>\n",
       "    </tr>\n",
       "    <tr>\n",
       "      <th class=\"index_name level0\" >Parch</th>\n",
       "      <th class=\"blank col0\" >&nbsp;</th>\n",
       "      <th class=\"blank col1\" >&nbsp;</th>\n",
       "      <th class=\"blank col2\" >&nbsp;</th>\n",
       "    </tr>\n",
       "  </thead>\n",
       "  <tbody>\n",
       "    <tr>\n",
       "      <th id=\"T_d024d_level0_row0\" class=\"row_heading level0 row0\" >0</th>\n",
       "      <td id=\"T_d024d_row0_col0\" class=\"data row0 col0\" >163</td>\n",
       "      <td id=\"T_d024d_row0_col1\" class=\"data row0 col1\" >134</td>\n",
       "      <td id=\"T_d024d_row0_col2\" class=\"data row0 col2\" >381</td>\n",
       "    </tr>\n",
       "    <tr>\n",
       "      <th id=\"T_d024d_level0_row1\" class=\"row_heading level0 row1\" >1</th>\n",
       "      <td id=\"T_d024d_row1_col0\" class=\"data row1 col0\" >31</td>\n",
       "      <td id=\"T_d024d_row1_col1\" class=\"data row1 col1\" >32</td>\n",
       "      <td id=\"T_d024d_row1_col2\" class=\"data row1 col2\" >55</td>\n",
       "    </tr>\n",
       "    <tr>\n",
       "      <th id=\"T_d024d_level0_row2\" class=\"row_heading level0 row2\" >2</th>\n",
       "      <td id=\"T_d024d_row2_col0\" class=\"data row2 col0\" >21</td>\n",
       "      <td id=\"T_d024d_row2_col1\" class=\"data row2 col1\" >16</td>\n",
       "      <td id=\"T_d024d_row2_col2\" class=\"data row2 col2\" >43</td>\n",
       "    </tr>\n",
       "    <tr>\n",
       "      <th id=\"T_d024d_level0_row3\" class=\"row_heading level0 row3\" >3</th>\n",
       "      <td id=\"T_d024d_row3_col0\" class=\"data row3 col0\" >0</td>\n",
       "      <td id=\"T_d024d_row3_col1\" class=\"data row3 col1\" >2</td>\n",
       "      <td id=\"T_d024d_row3_col2\" class=\"data row3 col2\" >3</td>\n",
       "    </tr>\n",
       "    <tr>\n",
       "      <th id=\"T_d024d_level0_row4\" class=\"row_heading level0 row4\" >4</th>\n",
       "      <td id=\"T_d024d_row4_col0\" class=\"data row4 col0\" >1</td>\n",
       "      <td id=\"T_d024d_row4_col1\" class=\"data row4 col1\" >0</td>\n",
       "      <td id=\"T_d024d_row4_col2\" class=\"data row4 col2\" >3</td>\n",
       "    </tr>\n",
       "    <tr>\n",
       "      <th id=\"T_d024d_level0_row5\" class=\"row_heading level0 row5\" >5</th>\n",
       "      <td id=\"T_d024d_row5_col0\" class=\"data row5 col0\" >0</td>\n",
       "      <td id=\"T_d024d_row5_col1\" class=\"data row5 col1\" >0</td>\n",
       "      <td id=\"T_d024d_row5_col2\" class=\"data row5 col2\" >5</td>\n",
       "    </tr>\n",
       "    <tr>\n",
       "      <th id=\"T_d024d_level0_row6\" class=\"row_heading level0 row6\" >6</th>\n",
       "      <td id=\"T_d024d_row6_col0\" class=\"data row6 col0\" >0</td>\n",
       "      <td id=\"T_d024d_row6_col1\" class=\"data row6 col1\" >0</td>\n",
       "      <td id=\"T_d024d_row6_col2\" class=\"data row6 col2\" >1</td>\n",
       "    </tr>\n",
       "  </tbody>\n",
       "</table>\n"
      ],
      "text/plain": [
       "<pandas.io.formats.style.Styler at 0x7f87bb6af460>"
      ]
     },
     "execution_count": 25,
     "metadata": {},
     "output_type": "execute_result"
    }
   ],
   "source": [
    "pd.crosstab(data.Parch,data.Pclass).style.background_gradient(cmap='summer_r')"
   ]
  },
  {
   "cell_type": "markdown",
   "metadata": {
    "_cell_guid": "d07b3740-3af3-442a-b640-54926597c999",
    "_uuid": "ecc5aebc2c638b3a6bbde9338b588d3d803c1af2"
   },
   "source": [
    "The crosstab again shows that larger families were in Pclass3."
   ]
  },
  {
   "cell_type": "markdown",
   "metadata": {
    "_cell_guid": "4b40e791-0817-4e70-a8e6-c74e121cdf45",
    "_uuid": "b55cfb2450f70f31a52c4ed64b89118b7b74ccec"
   },
   "source": [
    "### Observations:\n",
    "\n",
    "Here too the results are quite similar. Passengers with their parents onboard have greater chance of survival. It however reduces as the number goes up.\n",
    "\n",
    "The chances of survival is good for somebody who has 1-3 parents on the ship. Being alone also proves to be fatal and the chances for survival decreases when somebody has >4 parents on the ship."
   ]
  },
  {
   "cell_type": "markdown",
   "metadata": {
    "_cell_guid": "ce242dd4-c537-40f9-8223-76740512e966",
    "_uuid": "d873672610a96daa00522c850bd1b96013f92856"
   },
   "source": [
    "## Fare--> Continous Feature"
   ]
  },
  {
   "cell_type": "code",
   "execution_count": 26,
   "metadata": {
    "_cell_guid": "db19b152-af6d-41f7-a545-fe41e4be18a8",
    "_uuid": "fbd3e42723ae1447bc2f1b91204ffa609b4d07c5"
   },
   "outputs": [
    {
     "name": "stdout",
     "output_type": "stream",
     "text": [
      "Highest Fare was: 512.3292\n",
      "Lowest Fare was: 0.0\n",
      "Average Fare was: 32.2042079685746\n"
     ]
    }
   ],
   "source": [
    "print('Highest Fare was:',data['Fare'].max())\n",
    "print('Lowest Fare was:',data['Fare'].min())\n",
    "print('Average Fare was:',data['Fare'].mean())"
   ]
  },
  {
   "cell_type": "markdown",
   "metadata": {
    "_cell_guid": "5ab99107-6bd5-47be-b512-120eab64e7ef",
    "_uuid": "9cce63092c5f0f6864e45e43197a9b9af78a6bd7"
   },
   "source": [
    "The lowest fare is **0.0**. Wow!! a free luxorious ride. "
   ]
  },
  {
   "cell_type": "code",
   "execution_count": 27,
   "metadata": {
    "_cell_guid": "e9c4559e-913c-4a2d-9e96-6385e7ed6a06",
    "_uuid": "cea989cb8581e2d563009339e8194b81c531afde",
    "scrolled": true
   },
   "outputs": [
    {
     "data": {
      "image/png": "[encoded data removed]",
      "text/plain": [
       "<Figure size 1440x576 with 3 Axes>"
      ]
     },
     "metadata": {
      "needs_background": "light"
     },
     "output_type": "display_data"
    }
   ],
   "source": [
    "f,ax=plt.subplots(1,3,figsize=(20,8))\n",
    "sns.distplot(data[data['Pclass']==1].Fare,ax=ax[0])\n",
    "ax[0].set_title('Fares in Pclass 1')\n",
    "sns.distplot(data[data['Pclass']==2].Fare,ax=ax[1])\n",
    "ax[1].set_title('Fares in Pclass 2')\n",
    "sns.distplot(data[data['Pclass']==3].Fare,ax=ax[2])\n",
    "ax[2].set_title('Fares in Pclass 3')\n",
    "plt.show()"
   ]
  },
  {
   "cell_type": "markdown",
   "metadata": {
    "_cell_guid": "757f65b4-5a89-4385-9422-a98b2c3999cd",
    "_uuid": "2f85d68e7c648ffde18f55b6f49701e159256478"
   },
   "source": [
    "There looks to be a large distribution in the fares of Passengers in Pclass1 and this distribution goes on decreasing as the standards reduces. As this is also continous, we can convert into discrete values by using binning."
   ]
  },
  {
   "cell_type": "markdown",
   "metadata": {
    "_cell_guid": "de570fa8-3b6c-48b9-908c-6bdb9978bda1",
    "_uuid": "3918cdff2761844f861290010cac76797c2499eb",
    "collapsed": true
   },
   "source": [
    "## Observations in a Nutshell for all features:\n",
    "**Sex:** The chance of survival for women is high as compared to men.\n",
    "\n",
    "**Pclass:**There is a visible trend that being a **1st class passenger** gives you better chances of survival. The survival rate for **Pclass3 is very low**. For **women**, the chance of survival from **Pclass1** is almost 1 and is high too for those from **Pclass2**.   **Money Wins!!!**. \n",
    "\n",
    "**Age:** Children less than 5-10 years do have a high chance of survival. Passengers between age group 15 to 35 died a lot.\n",
    "\n",
    "**Embarked:** This is a very interesting feature. **The chances of survival at C looks to be better than even though the majority of Pclass1 passengers got up at S.** Passengers at Q were all from **Pclass3**. \n",
    "\n",
    "**Parch+SibSp:** Having 1-2 siblings,spouse on board or 1-3 Parents shows a greater chance of probablity rather than being alone or having a large family travelling with you."
   ]
  },
  {
   "cell_type": "markdown",
   "metadata": {
    "_cell_guid": "410e5ca6-2aa4-42a9-9875-d5aeb87d831f",
    "_uuid": "3b7ef048f72c226d996c6ad955b2b171d1780b93"
   },
   "source": [
    "## Correlation Between The Features"
   ]
  },
  {
   "cell_type": "code",
   "execution_count": 28,
   "metadata": {
    "_cell_guid": "88547a8f-28bb-469e-b3b8-5e5fbc4a1e30",
    "_uuid": "afa990766959d5cafd155c0c10c8c2d5afab2919",
    "scrolled": true
   },
   "outputs": [
    {
     "data": {
      "image/png": "[encoded data removed]",
      "text/plain": [
       "<Figure size 720x576 with 2 Axes>"
      ]
     },
     "metadata": {
      "needs_background": "light"
     },
     "output_type": "display_data"
    }
   ],
   "source": [
    "sns.heatmap(data.corr(),annot=True,cmap='RdYlGn',linewidths=0.2) #data.corr()-->correlation matrix\n",
    "fig=plt.gcf()\n",
    "fig.set_size_inches(10,8)\n",
    "plt.show()"
   ]
  },
  {
   "cell_type": "markdown",
   "metadata": {
    "_cell_guid": "e42e7713-4b01-4429-94d9-3dd514227933",
    "_uuid": "0b4721abbc77dcd5dd75616fd0b6f2e9ba198ff4",
    "collapsed": true
   },
   "source": [
    "### Interpreting The Heatmap\n",
    "\n",
    "The first thing to note is that only the numeric features are compared as it is obvious that we cannot correlate between alphabets or strings. Before understanding the plot, let us see what exactly correlation is.\n",
    "\n",
    "**POSITIVE CORRELATION:** If an **increase in feature A leads to increase in feature B, then they are positively correlated**. A value **1 means perfect positive correlation**.\n",
    "\n",
    "**NEGATIVE CORRELATION:** If an **increase in feature A leads to decrease in feature B, then they are negatively correlated**. A value **-1 means perfect negative correlation**.\n",
    "\n",
    "Now lets say that two features are highly or perfectly correlated, so the increase in one leads to increase in the other. This means that both the features are containing highly similar information and there is very little or no variance in information. This is known as **MultiColinearity** as both of them contains almost the same information.\n",
    "\n",
    "So do you think we should use both of them as **one of them is redundant**. While making or training models, we should try to eliminate redundant features as it reduces training time and many such advantages.\n",
    "\n",
    "Now from the above heatmap,we can see that the features are not much correlated. The highest correlation is between **SibSp and Parch i.e 0.41**. So we can carry on with all features."
   ]
  },
  {
   "cell_type": "markdown",
   "metadata": {
    "_cell_guid": "734d8511-e8ed-423a-913a-ccaa1ebda241",
    "_uuid": "08132891de3a44c38d099573a8693270b565bb1b"
   },
   "source": [
    "## Part2: Feature Engineering and Data Cleaning\n",
    "\n",
    "Now what is Feature Engineering?\n",
    "\n",
    "Whenever we are given a dataset with features, it is not necessary that all the features will be important. There maybe be many redundant features which should be eliminated. Also we can get or add new features by observing or extracting information from other features.\n",
    "\n",
    "An example would be getting the Initals feature using the Name Feature. Lets see if we can get any new features and eliminate a few. Also we will tranform the existing relevant features to suitable form for Predictive Modeling."
   ]
  },
  {
   "cell_type": "markdown",
   "metadata": {
    "_cell_guid": "f2fe673f-b1e4-4c2b-828c-091f27bbc3f5",
    "_uuid": "488a35e1cce6d5d3a50327ec2dfd9d0961f1abaf"
   },
   "source": [
    "## Age_band\n",
    "\n",
    "#### Problem With Age Feature:\n",
    "As I have mentioned earlier that **Age is a continous feature**, there is a problem with Continous Variables in Machine Learning Models.\n",
    "\n",
    "**Eg:**If I say to group or arrange Sports Person by **Sex**, We can easily segregate them by Male and Female.\n",
    "\n",
    "Now if I say to group them by their **Age**, then how would you do it? If there are 30 Persons, there may be 30 age values. Now this is problematic.\n",
    "\n",
    "We need to convert these **continous values into categorical values** by either Binning or Normalisation. I will be using binning i.e group a range of ages into a single bin or assign them a single value.\n",
    "\n",
    "Okay so the maximum age of a passenger was 80. So lets divide the range from 0-80 into 5 bins. So 80/5=16.\n",
    "So bins of size 16."
   ]
  },
  {
   "cell_type": "code",
   "execution_count": 29,
   "metadata": {
    "_cell_guid": "4b641963-d34e-4a4e-972f-df400c21c62d",
    "_uuid": "f79d6021bde433c229d180a82038bfc061b05093"
   },
   "outputs": [
    {
     "data": {
      "text/html": [
       "<div>\n",
       "<style scoped>\n",
       "    .dataframe tbody tr th:only-of-type {\n",
       "        vertical-align: middle;\n",
       "    }\n",
       "\n",
       "    .dataframe tbody tr th {\n",
       "        vertical-align: top;\n",
       "    }\n",
       "\n",
       "    .dataframe thead th {\n",
       "        text-align: right;\n",
       "    }\n",
       "</style>\n",
       "<table border=\"1\" class=\"dataframe\">\n",
       "  <thead>\n",
       "    <tr style=\"text-align: right;\">\n",
       "      <th></th>\n",
       "      <th>PassengerId</th>\n",
       "      <th>Survived</th>\n",
       "      <th>Pclass</th>\n",
       "      <th>Name</th>\n",
       "      <th>Sex</th>\n",
       "      <th>Age</th>\n",
       "      <th>SibSp</th>\n",
       "      <th>Parch</th>\n",
       "      <th>Ticket</th>\n",
       "      <th>Fare</th>\n",
       "      <th>Cabin</th>\n",
       "      <th>Embarked</th>\n",
       "      <th>Initial</th>\n",
       "      <th>Age_band</th>\n",
       "    </tr>\n",
       "  </thead>\n",
       "  <tbody>\n",
       "    <tr>\n",
       "      <th>0</th>\n",
       "      <td>1</td>\n",
       "      <td>0</td>\n",
       "      <td>3</td>\n",
       "      <td>Braund, Mr. Owen Harris</td>\n",
       "      <td>male</td>\n",
       "      <td>22.0</td>\n",
       "      <td>1</td>\n",
       "      <td>0</td>\n",
       "      <td>A/5 21171</td>\n",
       "      <td>7.2500</td>\n",
       "      <td>NaN</td>\n",
       "      <td>S</td>\n",
       "      <td>Mr</td>\n",
       "      <td>1</td>\n",
       "    </tr>\n",
       "    <tr>\n",
       "      <th>1</th>\n",
       "      <td>2</td>\n",
       "      <td>1</td>\n",
       "      <td>1</td>\n",
       "      <td>Cumings, Mrs. John Bradley (Florence Briggs Th...</td>\n",
       "      <td>female</td>\n",
       "      <td>38.0</td>\n",
       "      <td>1</td>\n",
       "      <td>0</td>\n",
       "      <td>PC 17599</td>\n",
       "      <td>71.2833</td>\n",
       "      <td>C85</td>\n",
       "      <td>C</td>\n",
       "      <td>Mrs</td>\n",
       "      <td>2</td>\n",
       "    </tr>\n",
       "  </tbody>\n",
       "</table>\n",
       "</div>"
      ],
      "text/plain": [
       "   PassengerId  Survived  Pclass  \\\n",
       "0            1         0       3   \n",
       "1            2         1       1   \n",
       "\n",
       "                                                Name     Sex   Age  SibSp  \\\n",
       "0                            Braund, Mr. Owen Harris    male  22.0      1   \n",
       "1  Cumings, Mrs. John Bradley (Florence Briggs Th...  female  38.0      1   \n",
       "\n",
       "   Parch     Ticket     Fare Cabin Embarked Initial  Age_band  \n",
       "0      0  A/5 21171   7.2500   NaN        S      Mr         1  \n",
       "1      0   PC 17599  71.2833   C85        C     Mrs         2  "
      ]
     },
     "execution_count": 29,
     "metadata": {},
     "output_type": "execute_result"
    }
   ],
   "source": [
    "data['Age_band']=0\n",
    "data.loc[data['Age']<=16,'Age_band']=0\n",
    "data.loc[(data['Age']>16)&(data['Age']<=32),'Age_band']=1\n",
    "data.loc[(data['Age']>32)&(data['Age']<=48),'Age_band']=2\n",
    "data.loc[(data['Age']>48)&(data['Age']<=64),'Age_band']=3\n",
    "data.loc[data['Age']>64,'Age_band']=4\n",
    "data.head(2)"
   ]
  },
  {
   "cell_type": "code",
   "execution_count": 30,
   "metadata": {
    "_cell_guid": "2f187870-e106-4852-acf0-9fa2e4115789",
    "_uuid": "f03e02b9ffd6a00041f18f2e34a36f76637101fe"
   },
   "outputs": [
    {
     "data": {
      "text/html": [
       "<style type=\"text/css\">\n",
       "#T_bc87c_row0_col0 {\n",
       "  background-color: #ffff66;\n",
       "  color: #000000;\n",
       "}\n",
       "#T_bc87c_row1_col0 {\n",
       "  background-color: #d8ec66;\n",
       "  color: #000000;\n",
       "}\n",
       "#T_bc87c_row2_col0 {\n",
       "  background-color: #40a066;\n",
       "  color: #f1f1f1;\n",
       "}\n",
       "#T_bc87c_row3_col0 {\n",
       "  background-color: #289366;\n",
       "  color: #f1f1f1;\n",
       "}\n",
       "#T_bc87c_row4_col0 {\n",
       "  background-color: #008066;\n",
       "  color: #f1f1f1;\n",
       "}\n",
       "</style>\n",
       "<table id=\"T_bc87c\">\n",
       "  <thead>\n",
       "    <tr>\n",
       "      <th class=\"blank level0\" >&nbsp;</th>\n",
       "      <th id=\"T_bc87c_level0_col0\" class=\"col_heading level0 col0\" >Age_band</th>\n",
       "    </tr>\n",
       "  </thead>\n",
       "  <tbody>\n",
       "    <tr>\n",
       "      <th id=\"T_bc87c_level0_row0\" class=\"row_heading level0 row0\" >1</th>\n",
       "      <td id=\"T_bc87c_row0_col0\" class=\"data row0 col0\" >382</td>\n",
       "    </tr>\n",
       "    <tr>\n",
       "      <th id=\"T_bc87c_level0_row1\" class=\"row_heading level0 row1\" >2</th>\n",
       "      <td id=\"T_bc87c_row1_col0\" class=\"data row1 col0\" >325</td>\n",
       "    </tr>\n",
       "    <tr>\n",
       "      <th id=\"T_bc87c_level0_row2\" class=\"row_heading level0 row2\" >0</th>\n",
       "      <td id=\"T_bc87c_row2_col0\" class=\"data row2 col0\" >104</td>\n",
       "    </tr>\n",
       "    <tr>\n",
       "      <th id=\"T_bc87c_level0_row3\" class=\"row_heading level0 row3\" >3</th>\n",
       "      <td id=\"T_bc87c_row3_col0\" class=\"data row3 col0\" >69</td>\n",
       "    </tr>\n",
       "    <tr>\n",
       "      <th id=\"T_bc87c_level0_row4\" class=\"row_heading level0 row4\" >4</th>\n",
       "      <td id=\"T_bc87c_row4_col0\" class=\"data row4 col0\" >11</td>\n",
       "    </tr>\n",
       "  </tbody>\n",
       "</table>\n"
      ],
      "text/plain": [
       "<pandas.io.formats.style.Styler at 0x7f87baff9340>"
      ]
     },
     "execution_count": 30,
     "metadata": {},
     "output_type": "execute_result"
    }
   ],
   "source": [
    "data['Age_band'].value_counts().to_frame().style.background_gradient(cmap='summer')#checking the number of passenegers in each band"
   ]
  },
  {
   "cell_type": "markdown",
   "metadata": {
    "_cell_guid": "b432f71d-6fd1-42be-8533-1b7114276004",
    "_uuid": "10a137ebe2c56afc515342642c35d4daa9b78497"
   },
   "source": [
    "True that..the survival rate decreases as the age increases irrespective of the Pclass.\n",
    "\n",
    "## Family_Size and Alone\n",
    "At this point, we can create a new feature called \"Family_size\" and \"Alone\" and analyse it. This feature is the summation of Parch and SibSp. It gives us a combined data so that we can check if survival rate have anything to do with family size of the passengers. Alone will denote whether a passenger is alone or not."
   ]
  },
  {
   "cell_type": "markdown",
   "metadata": {
    "_cell_guid": "1ba180b0-c78a-4f9e-a179-6f89464d1c7d",
    "_uuid": "81bcb9835ff850fc400183c0c6b599fd4aecd222"
   },
   "source": [
    "**Family_Size=0 means that the passeneger is alone.** Clearly, if you are alone or family_size=0,then chances for survival is very low. For family size > 4,the chances decrease too. This also looks to be an important feature for the model. Lets examine this further."
   ]
  },
  {
   "cell_type": "markdown",
   "metadata": {
    "_cell_guid": "6cf47ab0-5172-499d-ae63-1e45f72175f2",
    "_uuid": "12d1a4fa19df5691a4ecca4662031a125e98ed02"
   },
   "source": [
    "It is visible that being alone is harmful irrespective of Sex or Pclass except for Pclass3 where the chances of females who are alone is high than those with family.\n",
    "\n",
    "## Fare_Range\n",
    "\n",
    "Since fare is also a continous feature, we need to convert it into ordinal value. For this we will use **pandas.qcut**.\n",
    "\n",
    "So what **qcut** does is it splits or arranges the values according the number of bins we have passed. So if we pass for 5 bins, it will arrange the values equally spaced into 5 seperate bins or value ranges."
   ]
  },
  {
   "cell_type": "code",
   "execution_count": 31,
   "metadata": {
    "_cell_guid": "f46d820c-e81e-448f-837d-d3dfd63b94e6",
    "_uuid": "4aec257e46ab71667aed9571663e74f7e1f27d9b"
   },
   "outputs": [
    {
     "data": {
      "text/html": [
       "<style type=\"text/css\">\n",
       "#T_54228_row0_col0 {\n",
       "  background-color: #ffff66;\n",
       "  color: #000000;\n",
       "}\n",
       "#T_54228_row1_col0 {\n",
       "  background-color: #b9dc66;\n",
       "  color: #000000;\n",
       "}\n",
       "#T_54228_row2_col0 {\n",
       "  background-color: #54aa66;\n",
       "  color: #f1f1f1;\n",
       "}\n",
       "#T_54228_row3_col0 {\n",
       "  background-color: #008066;\n",
       "  color: #f1f1f1;\n",
       "}\n",
       "</style>\n",
       "<table id=\"T_54228\">\n",
       "  <thead>\n",
       "    <tr>\n",
       "      <th class=\"blank level0\" >&nbsp;</th>\n",
       "      <th id=\"T_54228_level0_col0\" class=\"col_heading level0 col0\" >Survived</th>\n",
       "    </tr>\n",
       "    <tr>\n",
       "      <th class=\"index_name level0\" >Fare_Range</th>\n",
       "      <th class=\"blank col0\" >&nbsp;</th>\n",
       "    </tr>\n",
       "  </thead>\n",
       "  <tbody>\n",
       "    <tr>\n",
       "      <th id=\"T_54228_level0_row0\" class=\"row_heading level0 row0\" >(-0.001, 7.91]</th>\n",
       "      <td id=\"T_54228_row0_col0\" class=\"data row0 col0\" >0.197309</td>\n",
       "    </tr>\n",
       "    <tr>\n",
       "      <th id=\"T_54228_level0_row1\" class=\"row_heading level0 row1\" >(7.91, 14.454]</th>\n",
       "      <td id=\"T_54228_row1_col0\" class=\"data row1 col0\" >0.303571</td>\n",
       "    </tr>\n",
       "    <tr>\n",
       "      <th id=\"T_54228_level0_row2\" class=\"row_heading level0 row2\" >(14.454, 31.0]</th>\n",
       "      <td id=\"T_54228_row2_col0\" class=\"data row2 col0\" >0.454955</td>\n",
       "    </tr>\n",
       "    <tr>\n",
       "      <th id=\"T_54228_level0_row3\" class=\"row_heading level0 row3\" >(31.0, 512.329]</th>\n",
       "      <td id=\"T_54228_row3_col0\" class=\"data row3 col0\" >0.581081</td>\n",
       "    </tr>\n",
       "  </tbody>\n",
       "</table>\n"
      ],
      "text/plain": [
       "<pandas.io.formats.style.Styler at 0x7f87bbea1f10>"
      ]
     },
     "execution_count": 31,
     "metadata": {},
     "output_type": "execute_result"
    }
   ],
   "source": [
    "data['Fare_Range']=pd.qcut(data['Fare'],4)\n",
    "data.groupby(['Fare_Range'])['Survived'].mean().to_frame().style.background_gradient(cmap='summer_r')"
   ]
  },
  {
   "cell_type": "markdown",
   "metadata": {
    "_cell_guid": "357e3fd7-465f-4bd4-83f1-ac78bcdf7538",
    "_uuid": "07f991646cc077f42cab42c41942138109af346d"
   },
   "source": [
    "As discussed above, we can clearly see that as the **fare_range increases, the chances of survival increases.**\n",
    "\n",
    "Now we cannot pass the Fare_Range values as it is. We should convert it into singleton values same as we did in **Age_Band**"
   ]
  },
  {
   "cell_type": "code",
   "execution_count": 32,
   "metadata": {
    "_cell_guid": "ba80366f-8f8c-421e-bfb9-f3121402e5b6",
    "_uuid": "f22ee32844ba93a6162d14ca801385064a996101"
   },
   "outputs": [],
   "source": [
    "data['Fare_cat']=0\n",
    "data.loc[data['Fare']<=7.91,'Fare_cat']=0\n",
    "data.loc[(data['Fare']>7.91)&(data['Fare']<=14.454),'Fare_cat']=1\n",
    "data.loc[(data['Fare']>14.454)&(data['Fare']<=31),'Fare_cat']=2\n",
    "data.loc[(data['Fare']>31)&(data['Fare']<=513),'Fare_cat']=3"
   ]
  },
  {
   "cell_type": "markdown",
   "metadata": {
    "_cell_guid": "2cd0333d-a2dd-4deb-b103-8e2e0fc5da4e",
    "_uuid": "2e4dc43d07d286ef9e4e8995d77cddb892973c86"
   },
   "source": [
    "Clearly, as the Fare_cat increases, the survival chances increases. This feature may become an important feature during modeling along with the Sex.\n",
    "\n",
    "## Converting String Values into Numeric\n",
    "\n",
    "Since we cannot pass strings to a machine learning model, we need to convert features loke Sex, Embarked, etc into numeric values."
   ]
  },
  {
   "cell_type": "code",
   "execution_count": 33,
   "metadata": {
    "_cell_guid": "c9a75f9d-9a0c-4ffc-88ec-5996ee589121",
    "_uuid": "e76a3ec186753e9217584419945e6654072819a7"
   },
   "outputs": [],
   "source": [
    "data['Sex'].replace(['male','female'],[0,1],inplace=True)\n",
    "data['Embarked'].replace(['S','C','Q'],[0,1,2],inplace=True)\n",
    "data['Initial'].replace(['Mr','Mrs','Miss','Master','Other'],[0,1,2,3,4],inplace=True)"
   ]
  },
  {
   "cell_type": "markdown",
   "metadata": {
    "_cell_guid": "89a1862f-f0ca-48e9-aeaf-460950538c7f",
    "_uuid": "30b66ebbf65acebdefe20a520d9a62762b959590"
   },
   "source": [
    "### Dropping UnNeeded Features\n",
    "\n",
    "**Name**--> We don't need name feature as it cannot be converted into any categorical value.\n",
    "\n",
    "**Age**--> We have the Age_band feature, so no need of this.\n",
    "\n",
    "**Ticket**--> It is any random string that cannot be categorised.\n",
    "\n",
    "**Fare**--> We have the Fare_cat feature, so unneeded\n",
    "\n",
    "**Cabin**--> A lot of NaN values and also many passengers have multiple cabins. So this is a useless feature.\n",
    "\n",
    "**Fare_Range**--> We have the fare_cat feature.\n",
    "\n",
    "**PassengerId**--> Cannot be categorised."
   ]
  },
  {
   "cell_type": "code",
   "execution_count": 34,
   "metadata": {
    "_cell_guid": "bc04b292-b453-4b45-868b-ab3f99b776dc",
    "_uuid": "210bdb7650161cbe09a381dc89c0fc4485b2646c"
   },
   "outputs": [
    {
     "data": {
      "image/png": "[encoded data removed]",
      "text/plain": [
       "<Figure size 1296x1080 with 2 Axes>"
      ]
     },
     "metadata": {
      "needs_background": "light"
     },
     "output_type": "display_data"
    }
   ],
   "source": [
    "data.drop(['Name','Age','Ticket','Fare','Cabin','Fare_Range','PassengerId'],axis=1,inplace=True)\n",
    "sns.heatmap(data.corr(),annot=True,cmap='RdYlGn',linewidths=0.2,annot_kws={'size':20})\n",
    "fig=plt.gcf()\n",
    "fig.set_size_inches(18,15)\n",
    "plt.xticks(fontsize=14)\n",
    "plt.yticks(fontsize=14)\n",
    "plt.show()"
   ]
  },
  {
   "cell_type": "markdown",
   "metadata": {
    "_cell_guid": "ff2e04fa-1213-4183-8f03-d78889bb3aba",
    "_uuid": "d3247092c61752d3330e7a4e4f5e039402f11285"
   },
   "source": [
    "Now the above correlation plot, we can see some positively related features. Some of them being **SibSp andd Family_Size** and **Parch and Family_Size** and some negative ones like **Alone and Family_Size.**"
   ]
  },
  {
   "cell_type": "markdown",
   "metadata": {
    "_cell_guid": "7110f2af-1002-4d78-942b-19318b0d90c3",
    "_uuid": "fb6f48f1da808adbb03cd22b9a823ed2bd3374ae"
   },
   "source": [
    "# Part3: Predictive Modeling\n",
    "\n",
    "We have gained some insights from the EDA part. But with that, we cannot accurately predict or tell whether a passenger will survive or die. So now we will predict the whether the Passenger will survive or not using some great Classification Algorithms.Following are the algorithms I will use to make the model:\n",
    "\n",
    "1)Logistic Regression\n",
    "\n",
    "2)Support Vector Machines(Linear and radial)\n",
    "\n",
    "3)Random Forest\n",
    "\n",
    "4)K-Nearest Neighbours\n",
    "\n",
    "5)Naive Bayes\n",
    "\n",
    "6)Decision Tree\n",
    "\n",
    "7)Logistic Regression"
   ]
  },
  {
   "cell_type": "code",
   "execution_count": 35,
   "metadata": {
    "_cell_guid": "e099ab49-b0b3-40a1-b372-1f006774d641",
    "_uuid": "c39d18a3cbffb9b7d71b746f5f873ef8e4f7ecb3"
   },
   "outputs": [],
   "source": [
    "#importing all the required ML packages\n",
    "from sklearn.linear_model import LogisticRegression #logistic regression\n",
    "from sklearn import svm #support vector Machine\n",
    "from sklearn.ensemble import RandomForestClassifier #Random Forest\n",
    "from sklearn.neighbors import KNeighborsClassifier #KNN\n",
    "from sklearn.naive_bayes import GaussianNB #Naive bayes\n",
    "from sklearn.tree import DecisionTreeClassifier #Decision Tree\n",
    "from sklearn.model_selection import train_test_split #training and testing data split\n",
    "from sklearn import metrics #accuracy measure\n",
    "from sklearn.metrics import confusion_matrix #for confusion matrix"
   ]
  },
  {
   "cell_type": "code",
   "execution_count": 36,
   "metadata": {
    "_cell_guid": "c01597f4-4536-41d6-8f9a-dad8f955524e",
    "_uuid": "03896d10e6364121c9ffe2a4cfe280353637bcfe"
   },
   "outputs": [],
   "source": [
    "train,test=train_test_split(data,test_size=0.3,random_state=0,stratify=data['Survived'])\n",
    "train_X=train[train.columns[1:]]\n",
    "train_Y=train[train.columns[:1]]\n",
    "test_X=test[test.columns[1:]]\n",
    "test_Y=test[test.columns[:1]]\n",
    "X=data[data.columns[1:]]\n",
    "Y=data['Survived']"
   ]
  },
  {
   "cell_type": "markdown",
   "metadata": {
    "_cell_guid": "6618cea9-bbdc-45d3-b506-12c6000ca7e3",
    "_uuid": "737c474fe05198067e38559bf0c554af594da5bc"
   },
   "source": [
    "### Radial Support Vector Machines(rbf-SVM)"
   ]
  },
  {
   "cell_type": "code",
   "execution_count": 37,
   "metadata": {
    "_cell_guid": "278c175b-553b-4b79-9e1a-9f4f86b385fd",
    "_uuid": "36939717ad06a4590276530754414bd5a281dde2"
   },
   "outputs": [
    {
     "name": "stdout",
     "output_type": "stream",
     "text": [
      "Accuracy for rbf SVM is  0.832089552238806\n"
     ]
    }
   ],
   "source": [
    "model=svm.SVC(kernel='rbf',C=1,gamma=0.1)\n",
    "model.fit(train_X,train_Y)\n",
    "prediction1=model.predict(test_X)\n",
    "print('Accuracy for rbf SVM is ',metrics.accuracy_score(prediction1,test_Y))"
   ]
  },
  {
   "cell_type": "markdown",
   "metadata": {
    "_cell_guid": "095e2680-800c-42fe-bff3-6ff7431e41a4",
    "_uuid": "a2a394ac6de1d870ff4a68f46c7a14356ed65770"
   },
   "source": [
    "### Linear Support Vector Machine(linear-SVM)"
   ]
  },
  {
   "cell_type": "code",
   "execution_count": 38,
   "metadata": {
    "_cell_guid": "a61bf24a-1952-474f-8596-31bf61140e17",
    "_uuid": "0d8b19eaf5d0ca739d80d264b5a8dec2747a808b"
   },
   "outputs": [
    {
     "name": "stdout",
     "output_type": "stream",
     "text": [
      "Accuracy for linear SVM is 0.8059701492537313\n"
     ]
    }
   ],
   "source": [
    "model=svm.SVC(kernel='linear',C=0.1,gamma=0.1)\n",
    "model.fit(train_X,train_Y)\n",
    "prediction2=model.predict(test_X)\n",
    "print('Accuracy for linear SVM is',metrics.accuracy_score(prediction2,test_Y))"
   ]
  },
  {
   "cell_type": "markdown",
   "metadata": {
    "_cell_guid": "05d907c6-7751-458b-b475-e95f689b9590",
    "_uuid": "c7e40b35d7a0c8cdbfab6da2c0f40f062e63e4e6"
   },
   "source": [
    "### Logistic Regression"
   ]
  },
  {
   "cell_type": "code",
   "execution_count": 39,
   "metadata": {
    "_cell_guid": "80a062ce-b946-4213-9125-559c21ea409d",
    "_uuid": "c3f3229fede1a5869f5c36503acf9dad53dcbcfa"
   },
   "outputs": [
    {
     "name": "stdout",
     "output_type": "stream",
     "text": [
      "The accuracy of the Logistic Regression is 0.8171641791044776\n"
     ]
    }
   ],
   "source": [
    "model = LogisticRegression()\n",
    "model.fit(train_X,train_Y)\n",
    "prediction3=model.predict(test_X)\n",
    "print('The accuracy of the Logistic Regression is',metrics.accuracy_score(prediction3,test_Y))"
   ]
  },
  {
   "cell_type": "markdown",
   "metadata": {
    "_cell_guid": "301bb743-9c81-4228-936c-32b17b57aa96",
    "_uuid": "ad97a5c8cd433ec3f0d757b73e163c47efb1d8e8"
   },
   "source": [
    "### Decision Tree"
   ]
  },
  {
   "cell_type": "code",
   "execution_count": 40,
   "metadata": {
    "_cell_guid": "bedf7f6c-29b1-4724-9977-67f23414d320",
    "_uuid": "da62e904b8e149cc3239daf8f209a9472ccb13cc"
   },
   "outputs": [
    {
     "name": "stdout",
     "output_type": "stream",
     "text": [
      "The accuracy of the Decision Tree is 0.7947761194029851\n"
     ]
    }
   ],
   "source": [
    "model=DecisionTreeClassifier()\n",
    "model.fit(train_X,train_Y)\n",
    "prediction4=model.predict(test_X)\n",
    "print('The accuracy of the Decision Tree is',metrics.accuracy_score(prediction4,test_Y))\n"
   ]
  },
  {
   "cell_type": "markdown",
   "metadata": {
    "_cell_guid": "16a910b2-fcc6-4204-871f-0fc524bba888",
    "_uuid": "2b39e134858428fdbc7ed40a1be057f3c2e20418"
   },
   "source": [
    "### K-Nearest Neighbours(KNN)"
   ]
  },
  {
   "cell_type": "code",
   "execution_count": 41,
   "metadata": {
    "_cell_guid": "4a840c02-24c5-4e77-98f0-6d972ce08707",
    "_uuid": "ae81fa1b7a11605a1a7366da0b08af05ab6a2662"
   },
   "outputs": [
    {
     "name": "stdout",
     "output_type": "stream",
     "text": [
      "The accuracy of the KNN is 0.8134328358208955\n"
     ]
    }
   ],
   "source": [
    "model=KNeighborsClassifier() \n",
    "model.fit(train_X,train_Y)\n",
    "prediction5=model.predict(test_X)\n",
    "print('The accuracy of the KNN is',metrics.accuracy_score(prediction5,test_Y))"
   ]
  },
  {
   "cell_type": "markdown",
   "metadata": {
    "_cell_guid": "8968f37a-0e0f-48b0-94f4-5018b9db6f08",
    "_uuid": "d74d9689faf92c6e44f73dbde7e4992ecc53d765"
   },
   "source": [
    "Now the accuracy for the KNN model changes as we change the values for **n_neighbours** attribute. The default value is **5**. Lets check the accuracies over various values of n_neighbours."
   ]
  },
  {
   "cell_type": "code",
   "execution_count": 42,
   "metadata": {
    "_cell_guid": "9633dca4-eaa2-4d59-9590-d03fe1510cde",
    "_uuid": "8920914151d70a6231389b86e609aec66a5b88c0"
   },
   "outputs": [
    {
     "data": {
      "image/png": "[encoded data removed]",
      "text/plain": [
       "<Figure size 864x432 with 1 Axes>"
      ]
     },
     "metadata": {
      "needs_background": "light"
     },
     "output_type": "display_data"
    },
    {
     "name": "stdout",
     "output_type": "stream",
     "text": [
      "Accuracies for different values of n are: [0.78358209 0.77985075 0.80597015 0.81716418 0.81343284 0.80970149\n",
      " 0.81343284 0.8358209  0.82835821 0.82462687] with the max value as  0.835820895522388\n"
     ]
    }
   ],
   "source": [
    "a_index=list(range(1,11))\n",
    "a=pd.Series()\n",
    "x=[0,1,2,3,4,5,6,7,8,9,10]\n",
    "for i in list(range(1,11)):\n",
    "    model=KNeighborsClassifier(n_neighbors=i) \n",
    "    model.fit(train_X,train_Y)\n",
    "    prediction=model.predict(test_X)\n",
    "    a=a.append(pd.Series(metrics.accuracy_score(prediction,test_Y)))\n",
    "plt.plot(a_index, a)\n",
    "plt.xticks(x)\n",
    "fig=plt.gcf()\n",
    "fig.set_size_inches(12,6)\n",
    "plt.show()\n",
    "print('Accuracies for different values of n are:',a.values,'with the max value as ',a.values.max())"
   ]
  },
  {
   "cell_type": "markdown",
   "metadata": {
    "_cell_guid": "bb36dadf-0e74-4372-adf8-751a31951570",
    "_uuid": "ef98b8d1030a9f68a68a5064c2980e38a448b8fe"
   },
   "source": [
    "### Gaussian Naive Bayes"
   ]
  },
  {
   "cell_type": "code",
   "execution_count": 43,
   "metadata": {
    "_cell_guid": "fe14b93b-7732-44a3-a8fd-667abd2713fc",
    "_uuid": "66889b223ce7c42880b23b6d2ec13c7a8ca8b028"
   },
   "outputs": [
    {
     "name": "stdout",
     "output_type": "stream",
     "text": [
      "The accuracy of the NaiveBayes is 0.8134328358208955\n"
     ]
    }
   ],
   "source": [
    "model=GaussianNB()\n",
    "model.fit(train_X,train_Y)\n",
    "prediction6=model.predict(test_X)\n",
    "print('The accuracy of the NaiveBayes is',metrics.accuracy_score(prediction6,test_Y))"
   ]
  },
  {
   "cell_type": "markdown",
   "metadata": {
    "_cell_guid": "54cd59cb-854d-40d4-ac81-2d86a290977a",
    "_uuid": "a7d1e5161b35601aeb5b44a4fcf6b88b243a6151"
   },
   "source": [
    "### Random Forests"
   ]
  },
  {
   "cell_type": "code",
   "execution_count": 44,
   "metadata": {
    "_cell_guid": "4a3fb4ef-213b-42f2-864d-9b758088f296",
    "_uuid": "2adaf51a647e1a2ec1d89189da53c1d8124e3d10"
   },
   "outputs": [
    {
     "name": "stdout",
     "output_type": "stream",
     "text": [
      "The accuracy of the Random Forests is 0.8171641791044776\n"
     ]
    }
   ],
   "source": [
    "model=RandomForestClassifier(n_estimators=100)\n",
    "model.fit(train_X,train_Y)\n",
    "prediction7=model.predict(test_X)\n",
    "print('The accuracy of the Random Forests is',metrics.accuracy_score(prediction7,test_Y))"
   ]
  },
  {
   "cell_type": "markdown",
   "metadata": {
    "_cell_guid": "9d87ba93-aeaa-456b-857d-ce03229f5e29",
    "_uuid": "271705b29ca8f22c789072720fde34203cf3fd1b"
   },
   "source": [
    "The accuracy of a model is not the only factor that determines the robustness of the classifier. Let's say that a classifier is trained over a training data and tested over the test data and it scores an accuracy of 90%.\n",
    "\n",
    "Now this seems to be very good accuracy for a classifier, but can we confirm that it will be 90% for all the new test sets that come over??. The answer is **No**, because we can't determine which all instances will the classifier will use to train itself. As the training and testing data changes, the accuracy will also change. It may increase or decrease. This is known as **model variance**.\n",
    "\n",
    "To overcome this and get a generalized model,we use **Cross Validation**.\n",
    "\n",
    "\n",
    "# Cross Validation\n",
    "\n",
    "Many a times, the data is imbalanced, i.e there may be a high number of class1 instances but less number of other class instances. Thus we should train and test our algorithm on each and every instance of the dataset. Then we can take an average of all the noted accuracies over the dataset. \n",
    "\n",
    "1)The K-Fold Cross Validation works by first dividing the dataset into k-subsets.\n",
    "\n",
    "2)Let's say we divide the dataset into (k=5) parts. We reserve 1 part for testing and train the algorithm over the 4 parts.\n",
    "\n",
    "3)We continue the process by changing the testing part in each iteration and training the algorithm over the other parts. The accuracies and errors are then averaged to get a average accuracy of the algorithm.\n",
    "\n",
    "This is called K-Fold Cross Validation.\n",
    "\n",
    "4)An algorithm may underfit over a dataset for some training data and sometimes also overfit the data for other training set. Thus with cross-validation, we can achieve a generalised model."
   ]
  },
  {
   "cell_type": "code",
   "execution_count": 45,
   "metadata": {
    "_cell_guid": "6055a9d4-60c3-4f05-80ad-7b24aa7905f6",
    "_uuid": "0008f647edc90d8da7811a77394b7f97dc4084c5"
   },
   "outputs": [],
   "source": [
    "from sklearn.model_selection import KFold #for K-fold cross validation\n",
    "from sklearn.model_selection import cross_val_score #score evaluation\n",
    "from sklearn.model_selection import cross_val_predict #prediction\n"
   ]
  },
  {
   "cell_type": "markdown",
   "metadata": {
    "_cell_guid": "37935965-7042-4828-983b-bea15524551c",
    "_uuid": "aa34471632a4a7449881f8dfedc4f4c3575f1506"
   },
   "source": [
    "The classification accuracy can be sometimes misleading due to imbalance. We can get a summarized result with the help of confusion matrix, which shows where did the model go wrong, or which class did the model predict wrong.\n",
    "\n",
    "## Confusion Matrix\n",
    "\n",
    "It gives the number of correct and incorrect classifications made by the classifier."
   ]
  },
  {
   "cell_type": "code",
   "execution_count": 46,
   "metadata": {
    "_cell_guid": "d6ae1291-7a55-4cc0-a039-0b9cbf2deedb",
    "_uuid": "9d1a7c6efcb76a121f29a861f77e0e32e4904d4a"
   },
   "outputs": [
    {
     "data": {
      "image/png": "[encoded data removed]",
      "text/plain": [
       "<Figure size 864x720 with 16 Axes>"
      ]
     },
     "metadata": {
      "needs_background": "light"
     },
     "output_type": "display_data"
    }
   ],
   "source": [
    "f,ax=plt.subplots(3,3,figsize=(12,10))\n",
    "y_pred = cross_val_predict(svm.SVC(kernel='rbf'),X,Y,cv=10)\n",
    "sns.heatmap(confusion_matrix(Y,y_pred),ax=ax[0,0],annot=True,fmt='2.0f')\n",
    "ax[0,0].set_title('Matrix for rbf-SVM')\n",
    "y_pred = cross_val_predict(svm.SVC(kernel='linear'),X,Y,cv=10)\n",
    "sns.heatmap(confusion_matrix(Y,y_pred),ax=ax[0,1],annot=True,fmt='2.0f')\n",
    "ax[0,1].set_title('Matrix for Linear-SVM')\n",
    "y_pred = cross_val_predict(KNeighborsClassifier(n_neighbors=9),X,Y,cv=10)\n",
    "sns.heatmap(confusion_matrix(Y,y_pred),ax=ax[0,2],annot=True,fmt='2.0f')\n",
    "ax[0,2].set_title('Matrix for KNN')\n",
    "y_pred = cross_val_predict(RandomForestClassifier(n_estimators=100),X,Y,cv=10)\n",
    "sns.heatmap(confusion_matrix(Y,y_pred),ax=ax[1,0],annot=True,fmt='2.0f')\n",
    "ax[1,0].set_title('Matrix for Random-Forests')\n",
    "y_pred = cross_val_predict(LogisticRegression(),X,Y,cv=10)\n",
    "sns.heatmap(confusion_matrix(Y,y_pred),ax=ax[1,1],annot=True,fmt='2.0f')\n",
    "ax[1,1].set_title('Matrix for Logistic Regression')\n",
    "y_pred = cross_val_predict(DecisionTreeClassifier(),X,Y,cv=10)\n",
    "sns.heatmap(confusion_matrix(Y,y_pred),ax=ax[1,2],annot=True,fmt='2.0f')\n",
    "ax[1,2].set_title('Matrix for Decision Tree')\n",
    "y_pred = cross_val_predict(GaussianNB(),X,Y,cv=10)\n",
    "sns.heatmap(confusion_matrix(Y,y_pred),ax=ax[2,0],annot=True,fmt='2.0f')\n",
    "ax[2,0].set_title('Matrix for Naive Bayes')\n",
    "plt.subplots_adjust(hspace=0.2,wspace=0.2)\n",
    "plt.show()"
   ]
  },
  {
   "cell_type": "markdown",
   "metadata": {
    "_cell_guid": "d8c66c23-c57c-4d3c-8742-4baa551f9ab1",
    "_uuid": "635c65dbd043e5e46e828c9101bf397d25717671"
   },
   "source": [
    "### Interpreting Confusion Matrix\n",
    "\n",
    "The left diagonal shows the number of correct predictions made for each class while the right diagonal shows the number of wrong prredictions made. Lets consider the first plot for rbf-SVM:\n",
    "\n",
    "1)The no. of correct predictions are **491(for dead) + 247(for survived)** with the mean CV accuracy being **(491+247)/891 = 82.8%** which we did get earlier.\n",
    "\n",
    "2)**Errors**-->  Wrongly Classified 58 dead people as survived and 95 survived as dead. Thus it has made more mistakes by predicting dead as survived.\n",
    "\n",
    "By looking at all the matrices, we can say that rbf-SVM has a higher chance in correctly predicting dead passengers but NaiveBayes has a higher chance in correctly predicting passengers who survived."
   ]
  },
  {
   "cell_type": "markdown",
   "metadata": {
    "_cell_guid": "d264a15a-fcb1-49ea-a374-4b5cd9501738",
    "_uuid": "fbfd27e3e1feae00fe22f517d2c4ebc8247c936c"
   },
   "source": [
    "### Hyper-Parameters Tuning\n",
    "\n",
    "The machine learning models are like a Black-Box. There are some default parameter values for this Black-Box, which we can tune or change to get a better model. Like the C and gamma in the SVM model and similarly different parameters for different classifiers, are called the hyper-parameters, which we can tune to change the learning rate of the algorithm and get a better model. This is known as Hyper-Parameter Tuning.\n",
    "\n",
    "We will tune the hyper-parameters for the 2 best classifiers i.e the SVM and RandomForests.\n",
    "\n",
    "#### SVM"
   ]
  },
  {
   "cell_type": "code",
   "execution_count": 47,
   "metadata": {
    "_cell_guid": "b55abfe7-c4be-4712-b4ed-3447f18b9503",
    "_uuid": "27cec77e7540f00f14f16ad654dbc3b285979450"
   },
   "outputs": [
    {
     "name": "stdout",
     "output_type": "stream",
     "text": [
      "Fitting 5 folds for each of 240 candidates, totalling 1200 fits\n",
      "0.8316238779737619\n",
      "SVC(C=1, gamma=0.1)\n"
     ]
    }
   ],
   "source": [
    "from sklearn.model_selection import GridSearchCV\n",
    "C=[0.05,0.1,0.2,0.3,0.25,0.4,0.5,0.6,0.7,0.8,0.9,1]\n",
    "gamma=[0.1,0.2,0.3,0.4,0.5,0.6,0.7,0.8,0.9,1.0]\n",
    "kernel=['rbf','linear']\n",
    "hyper={'kernel':kernel,'C':C,'gamma':gamma}\n",
    "gd=GridSearchCV(estimator=svm.SVC(),param_grid=hyper,verbose=True)\n",
    "gd.fit(X,Y)\n",
    "print(gd.best_score_)\n",
    "print(gd.best_estimator_)"
   ]
  },
  {
   "cell_type": "markdown",
   "metadata": {
    "_cell_guid": "0105b9ed-30bd-45b6-81ab-058d4b24055a",
    "_uuid": "f5139677175baefbada84f8e8b080ab9ca82cad9"
   },
   "source": [
    "#### Random Forests"
   ]
  },
  {
   "cell_type": "code",
   "execution_count": 48,
   "metadata": {
    "_cell_guid": "651ec70e-9823-401f-8e7d-62eb29c1c3a7",
    "_uuid": "73b496e28b85d890b03290352264fa5eb32e2075"
   },
   "outputs": [
    {
     "name": "stdout",
     "output_type": "stream",
     "text": [
      "Fitting 5 folds for each of 9 candidates, totalling 45 fits\n",
      "0.8137028435126483\n",
      "RandomForestClassifier(n_estimators=400, random_state=0)\n"
     ]
    }
   ],
   "source": [
    "n_estimators=range(100,1000,100)\n",
    "hyper={'n_estimators':n_estimators}\n",
    "gd=GridSearchCV(estimator=RandomForestClassifier(random_state=0),param_grid=hyper,verbose=True)\n",
    "gd.fit(X,Y)\n",
    "print(gd.best_score_)\n",
    "print(gd.best_estimator_)"
   ]
  },
  {
   "cell_type": "markdown",
   "metadata": {
    "_cell_guid": "849fb470-3b99-4a8f-99ca-1117bd913347",
    "_uuid": "a37e3a5077f20b3fc2fb55141a6ca4adcd58a053"
   },
   "source": [
    "The best score for Rbf-Svm is **82.82% with C=0.05 and gamma=0.1**.\n",
    "For RandomForest, score is abt **81.8% with n_estimators=900**."
   ]
  },
  {
   "cell_type": "markdown",
   "metadata": {
    "_cell_guid": "108536a3-68e9-4abc-8dc7-c98b801a3386",
    "_uuid": "ddf9e42f2103a765a2b9ce0f52ac67478c36164c"
   },
   "source": [
    "# Ensembling\n",
    "\n",
    "Ensembling is a good way to increase the accuracy or performance of a model. In simple words, it is the combination of various simple models to create a single powerful model.\n",
    "\n",
    "Lets say we want to buy a phone and ask many people about it based on various parameters. So then we can make a strong judgement about a single product after analysing all different parameters. This is **Ensembling**, which improves the stability of the model. Ensembling can be done in ways like:\n",
    "\n",
    "1)Voting Classifier\n",
    "\n",
    "2)Bagging\n",
    "\n",
    "3)Boosting."
   ]
  },
  {
   "cell_type": "markdown",
   "metadata": {
    "_cell_guid": "8c7f49d7-8986-4c75-816d-a82e1e000e34",
    "_uuid": "22670e16c173f051f1c2eba96a4faa83fc87053b"
   },
   "source": [
    "## Voting Classifier\n",
    "\n",
    "It is the simplest way of combining predictions from many different simple machine learning models. It gives an average prediction result based on the prediction of all the submodels. The submodels or the basemodels are all of diiferent types."
   ]
  },
  {
   "cell_type": "code",
   "execution_count": 49,
   "metadata": {
    "_cell_guid": "0fb4987a-e837-4dd6-89a5-ac8d9c47bb8c",
    "_uuid": "3fde83a97a3f8ec941901886b1694941a77b740c"
   },
   "outputs": [
    {
     "name": "stdout",
     "output_type": "stream",
     "text": [
      "The accuracy for ensembled model is: 0.8134328358208955\n",
      "The cross validated score is 0.8282646691635456\n"
     ]
    }
   ],
   "source": [
    "from sklearn.ensemble import VotingClassifier\n",
    "ensemble_lin_rbf=VotingClassifier(estimators=[('KNN',KNeighborsClassifier(n_neighbors=10)),\n",
    "                                              ('RBF',svm.SVC(probability=True,kernel='rbf',C=0.5,gamma=0.1)),\n",
    "                                              ('RFor',RandomForestClassifier(n_estimators=500,random_state=0)),\n",
    "                                              ('LR',LogisticRegression(C=0.05)),\n",
    "                                              ('DT',DecisionTreeClassifier(random_state=0)),\n",
    "                                              ('NB',GaussianNB()),\n",
    "                                              ('svm',svm.SVC(kernel='linear',probability=True))\n",
    "                                             ], \n",
    "                       voting='soft').fit(train_X,train_Y)\n",
    "print('The accuracy for ensembled model is:',ensemble_lin_rbf.score(test_X,test_Y))\n",
    "cross=cross_val_score(ensemble_lin_rbf,X,Y, cv = 10,scoring = \"accuracy\")\n",
    "print('The cross validated score is',cross.mean())"
   ]
  },
  {
   "cell_type": "markdown",
   "metadata": {
    "_cell_guid": "79afa502-8bfd-416e-95dc-1297b9e42a39",
    "_uuid": "8b1d6e720f77c19f785cb28d5bcda57eeb57e10b"
   },
   "source": [
    "## Bagging\n",
    "\n",
    "Bagging is a general ensemble method. It works by applying similar classifiers on small partitions of the dataset and then taking the average of all the predictions. Due to the averaging,there is reduction in variance. Unlike Voting Classifier, Bagging makes use of similar classifiers.\n",
    "\n",
    "#### Bagged KNN\n",
    "\n",
    "Bagging works best with models with high variance. An example for this can be Decision Tree or Random Forests. We can use KNN with small value of **n_neighbours**, as small value of n_neighbours."
   ]
  },
  {
   "cell_type": "code",
   "execution_count": 50,
   "metadata": {
    "_cell_guid": "aa9aa59c-417e-430a-90be-ff28f463c124",
    "_uuid": "60c5490b5804a9679629dc819caa2d8e18a7893b"
   },
   "outputs": [
    {
     "name": "stdout",
     "output_type": "stream",
     "text": [
      "The accuracy for bagged KNN is: 0.835820895522388\n",
      "The cross validated score for bagged KNN is: 0.8171535580524345\n"
     ]
    }
   ],
   "source": [
    "from sklearn.ensemble import BaggingClassifier\n",
    "model=BaggingClassifier(base_estimator=KNeighborsClassifier(n_neighbors=3),random_state=0,n_estimators=700)\n",
    "model.fit(train_X,train_Y)\n",
    "prediction=model.predict(test_X)\n",
    "print('The accuracy for bagged KNN is:',metrics.accuracy_score(prediction,test_Y))\n",
    "result=cross_val_score(model,X,Y,cv=10,scoring='accuracy')\n",
    "print('The cross validated score for bagged KNN is:',result.mean())"
   ]
  },
  {
   "cell_type": "markdown",
   "metadata": {
    "_cell_guid": "56a42f5c-da5e-4568-8c81-214353999328",
    "_uuid": "76e78fa11fc31aba7f0840fdfd837c1ada8b14c9"
   },
   "source": [
    "#### Bagged DecisionTree\n"
   ]
  },
  {
   "cell_type": "code",
   "execution_count": 51,
   "metadata": {
    "_cell_guid": "477cf946-fb66-42c0-a824-63dced016235",
    "_uuid": "5b31f702c3ba63fefab40b3367b22fbf6f1a8f6d"
   },
   "outputs": [
    {
     "name": "stdout",
     "output_type": "stream",
     "text": [
      "The accuracy for bagged Decision Tree is: 0.8134328358208955\n",
      "The cross validated score for bagged Decision Tree is: 0.8126342072409487\n"
     ]
    }
   ],
   "source": [
    "model=BaggingClassifier(base_estimator=DecisionTreeClassifier(),random_state=0,n_estimators=100)\n",
    "model.fit(train_X,train_Y)\n",
    "prediction=model.predict(test_X)\n",
    "print('The accuracy for bagged Decision Tree is:',metrics.accuracy_score(prediction,test_Y))\n",
    "result=cross_val_score(model,X,Y,cv=10,scoring='accuracy')\n",
    "print('The cross validated score for bagged Decision Tree is:',result.mean())"
   ]
  },
  {
   "cell_type": "markdown",
   "metadata": {
    "_cell_guid": "eeed9cf6-c417-44f8-8feb-6f79611e5efe",
    "_uuid": "8d05183dac7f4c41ddeda980fe5fcf83caf3ef45"
   },
   "source": [
    "## Boosting\n",
    "\n",
    "Boosting is an ensembling technique which uses sequential learning of classifiers. It is a step by step enhancement of a weak model.Boosting works as follows:\n",
    "\n",
    "A model is first trained on the complete dataset. Now the model will get some instances right while some wrong. Now in the next iteration, the learner will focus more on the wrongly predicted instances or give more weight to it. Thus it will try to predict the wrong instance correctly. Now this iterative process continous, and new classifers are added to the model until the limit is reached on the accuracy."
   ]
  },
  {
   "cell_type": "markdown",
   "metadata": {
    "_cell_guid": "5fd768e5-78ce-45b4-a015-2994cd003de9",
    "_uuid": "1b36f078809acf52842a01c7de5afbbe8000badc"
   },
   "source": [
    "#### AdaBoost(Adaptive Boosting)\n",
    "\n",
    "The weak learner or estimator in this case is a Decsion Tree.  But we can change the dafault base_estimator to any algorithm of our choice."
   ]
  },
  {
   "cell_type": "code",
   "execution_count": 52,
   "metadata": {
    "_cell_guid": "a0a08d75-57bd-4c7d-a3b6-68cba2ba915b",
    "_uuid": "32f72bdb2b9b054f7b7ef839dab62e430a2d050d"
   },
   "outputs": [
    {
     "name": "stdout",
     "output_type": "stream",
     "text": [
      "The cross validated score for AdaBoost is: 0.8260424469413234\n"
     ]
    }
   ],
   "source": [
    "from sklearn.ensemble import AdaBoostClassifier\n",
    "ada=AdaBoostClassifier(n_estimators=200,random_state=0,learning_rate=0.1)\n",
    "result=cross_val_score(ada,X,Y,cv=10,scoring='accuracy')\n",
    "print('The cross validated score for AdaBoost is:',result.mean())"
   ]
  },
  {
   "cell_type": "markdown",
   "metadata": {
    "_cell_guid": "898b737c-37a4-4c5b-a745-e39351a0b790",
    "_uuid": "b89e596f6b3fbc3441abf75e676060c12289b26e"
   },
   "source": [
    "#### Stochastic Gradient Boosting\n",
    "\n",
    "Here too the weak learner is a Decision Tree."
   ]
  },
  {
   "cell_type": "code",
   "execution_count": 53,
   "metadata": {
    "_cell_guid": "b41cd90a-04d4-4e8b-afe3-c50a66dda140",
    "_uuid": "a7aaea0c740932c4d7248fab80012553feefb0e2"
   },
   "outputs": [
    {
     "name": "stdout",
     "output_type": "stream",
     "text": [
      "The cross validated score for Gradient Boosting is: 0.8103870162297128\n"
     ]
    }
   ],
   "source": [
    "from sklearn.ensemble import GradientBoostingClassifier\n",
    "grad=GradientBoostingClassifier(n_estimators=500,random_state=0,learning_rate=0.1)\n",
    "result=cross_val_score(grad,X,Y,cv=10,scoring='accuracy')\n",
    "print('The cross validated score for Gradient Boosting is:',result.mean())"
   ]
  },
  {
   "cell_type": "markdown",
   "metadata": {
    "_cell_guid": "e1cb4442-2ddd-4854-9e62-7ff4543e8c9c",
    "_uuid": "107b5a93285d783a08beb89795c21a665d7dbb7c"
   },
   "source": [
    "### Confusion Matrix for the Best Model"
   ]
  },
  {
   "cell_type": "code",
   "execution_count": 55,
   "metadata": {
    "_cell_guid": "337cee47-1ebb-4ac3-866e-f087bed5c4a3",
    "_uuid": "3d9debcdbd9d7b9c4e88c214385e8a6b5ba7f8fa"
   },
   "outputs": [
    {
     "data": {
      "image/png": "[encoded data removed]",
      "text/plain": [
       "<Figure size 432x288 with 2 Axes>"
      ]
     },
     "metadata": {
      "needs_background": "light"
     },
     "output_type": "display_data"
    }
   ],
   "source": [
    "ada=AdaBoostClassifier(n_estimators=200,random_state=0,learning_rate=0.05)\n",
    "result=cross_val_predict(ada,X,Y,cv=10)\n",
    "sns.heatmap(confusion_matrix(Y,result),cmap='winter',annot=True,fmt='2.0f')\n",
    "plt.show()"
   ]
  },
  {
   "cell_type": "code",
   "execution_count": null,
   "metadata": {
    "_cell_guid": "c0cd2eff-759d-46dd-9857-716834ca62d5",
    "_uuid": "17eaa04af162b6cd0745f932537079995c771278"
   },
   "outputs": [],
   "source": []
  }
 ],
 "metadata": {
  "anaconda-cloud": {},
  "kernelspec": {
   "display_name": "Python 3 (ipykernel)",
   "language": "python",
   "name": "python3"
  },
  "language_info": {
   "codemirror_mode": {
    "name": "ipython",
    "version": 3
   },
   "file_extension": ".py",
   "mimetype": "text/x-python",
   "name": "python",
   "nbconvert_exporter": "python",
   "pygments_lexer": "ipython3",
   "version": "3.8.13"
  }
 },
 "nbformat": 4,
 "nbformat_minor": 1
}
